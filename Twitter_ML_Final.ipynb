{
 "cells": [
  {
   "attachments": {},
   "cell_type": "markdown",
   "metadata": {},
   "source": [
    "# Imports, API Object, Retrieving Tweets:"
   ]
  },
  {
   "cell_type": "code",
   "execution_count": 88,
   "metadata": {},
   "outputs": [],
   "source": [
    "import os\n",
    "import requests\n",
    "import json \n",
    "from dotenv import load_dotenv\n",
    "import time\n",
    "load_dotenv()\n",
    "import pandas as pd \n",
    "import csv\n",
    "import tweepy\n",
    "import ssl\n",
    "ssl._create_default_https_context = ssl._create_unverified_context\n",
    "import re\n",
    "import numpy as np"
   ]
  },
  {
   "cell_type": "code",
   "execution_count": 89,
   "metadata": {},
   "outputs": [],
   "source": [
    "twitter_api_key = os.getenv(\"TWITTER_API_KEY\")\n",
    "twitter_secret_key = os.getenv(\"TWITTER_SECRET_KEY\")\n",
    "twitter_access_token = os.getenv(\"TWITTER_ACCESS_TOKEN\")\n",
    "twitter_secret_token = os.getenv(\"TWITTER_SECRET_TOKEN\")"
   ]
  },
  {
   "cell_type": "code",
   "execution_count": 90,
   "metadata": {},
   "outputs": [],
   "source": [
    "def oAuth():\n",
    "    try:\n",
    "        auth = tweepy.OAuthHandler(twitter_api_key,twitter_secret_key)\n",
    "        auth.set_access_token(twitter_access_token,twitter_secret_token)\n",
    "        return auth\n",
    "    except Exception as e:\n",
    "        return None\n",
    "\n",
    "oauth= oAuth()\n",
    "\n",
    "tweepy_api = tweepy.API(oauth)"
   ]
  },
  {
   "cell_type": "code",
   "execution_count": 91,
   "metadata": {},
   "outputs": [],
   "source": [
    "def get_new_tweets(names):\n",
    "    print(\"Retrieving tweets\")\n",
    "    corpus = []                                                                                        \n",
    "    for name in names:\n",
    "        tweets = tweepy_api.user_timeline(screen_name = name, include_rts=False, count=30, tweet_mode=\"extended\", exclude_replies = True)          \n",
    "        time.sleep(4)\n",
    "        corpus.extend(tweets)                                                                          \n",
    "    data = [[tweet.id_str, tweet.user.screen_name, tweet.full_text, tweet.created_at] for tweet in corpus]\n",
    "    tweets = pd.DataFrame(data, columns=['tweet_id', 'screen_name', 'text', 'timestamp'])                \n",
    "\n",
    "    return tweets"
   ]
  },
  {
   "cell_type": "code",
   "execution_count": 92,
   "metadata": {},
   "outputs": [],
   "source": [
    "# Change this to whoever you want\n",
    "screen_names = ['CryptoKaleo']"
   ]
  },
  {
   "cell_type": "code",
   "execution_count": 93,
   "metadata": {},
   "outputs": [
    {
     "name": "stdout",
     "output_type": "stream",
     "text": [
      "Retrieving tweets\n"
     ]
    }
   ],
   "source": [
    "user_tweets = get_new_tweets(screen_names)"
   ]
  },
  {
   "cell_type": "code",
   "execution_count": 94,
   "metadata": {},
   "outputs": [
    {
     "data": {
      "text/html": [
       "<div>\n",
       "<style scoped>\n",
       "    .dataframe tbody tr th:only-of-type {\n",
       "        vertical-align: middle;\n",
       "    }\n",
       "\n",
       "    .dataframe tbody tr th {\n",
       "        vertical-align: top;\n",
       "    }\n",
       "\n",
       "    .dataframe thead th {\n",
       "        text-align: right;\n",
       "    }\n",
       "</style>\n",
       "<table border=\"1\" class=\"dataframe\">\n",
       "  <thead>\n",
       "    <tr style=\"text-align: right;\">\n",
       "      <th></th>\n",
       "      <th>tweet_id</th>\n",
       "      <th>screen_name</th>\n",
       "      <th>text</th>\n",
       "      <th>timestamp</th>\n",
       "    </tr>\n",
       "  </thead>\n",
       "  <tbody>\n",
       "    <tr>\n",
       "      <th>0</th>\n",
       "      <td>1650579436536750096</td>\n",
       "      <td>CryptoKaleo</td>\n",
       "      <td>There's so much pressure on CT to nail every d...</td>\n",
       "      <td>2023-04-24 19:16:18+00:00</td>\n",
       "    </tr>\n",
       "    <tr>\n",
       "      <th>1</th>\n",
       "      <td>1650550715230695434</td>\n",
       "      <td>CryptoKaleo</td>\n",
       "      <td>Can’t even post a Pepe meme anymore without so...</td>\n",
       "      <td>2023-04-24 17:22:10+00:00</td>\n",
       "    </tr>\n",
       "    <tr>\n",
       "      <th>2</th>\n",
       "      <td>1650548623002808329</td>\n",
       "      <td>CryptoKaleo</td>\n",
       "      <td>GOOD AFTERNOON CRYPTO TWITTER https://t.co/KHT...</td>\n",
       "      <td>2023-04-24 17:13:52+00:00</td>\n",
       "    </tr>\n",
       "    <tr>\n",
       "      <th>3</th>\n",
       "      <td>1650303290675003392</td>\n",
       "      <td>CryptoKaleo</td>\n",
       "      <td>Soon https://t.co/S9hhffZiog</td>\n",
       "      <td>2023-04-24 00:59:00+00:00</td>\n",
       "    </tr>\n",
       "    <tr>\n",
       "      <th>4</th>\n",
       "      <td>1650280651399020548</td>\n",
       "      <td>CryptoKaleo</td>\n",
       "      <td>It actually does feel like engagement on priva...</td>\n",
       "      <td>2023-04-23 23:29:02+00:00</td>\n",
       "    </tr>\n",
       "  </tbody>\n",
       "</table>\n",
       "</div>"
      ],
      "text/plain": [
       "              tweet_id  screen_name  \\\n",
       "0  1650579436536750096  CryptoKaleo   \n",
       "1  1650550715230695434  CryptoKaleo   \n",
       "2  1650548623002808329  CryptoKaleo   \n",
       "3  1650303290675003392  CryptoKaleo   \n",
       "4  1650280651399020548  CryptoKaleo   \n",
       "\n",
       "                                                text                 timestamp  \n",
       "0  There's so much pressure on CT to nail every d... 2023-04-24 19:16:18+00:00  \n",
       "1  Can’t even post a Pepe meme anymore without so... 2023-04-24 17:22:10+00:00  \n",
       "2  GOOD AFTERNOON CRYPTO TWITTER https://t.co/KHT... 2023-04-24 17:13:52+00:00  \n",
       "3                       Soon https://t.co/S9hhffZiog 2023-04-24 00:59:00+00:00  \n",
       "4  It actually does feel like engagement on priva... 2023-04-23 23:29:02+00:00  "
      ]
     },
     "execution_count": 94,
     "metadata": {},
     "output_type": "execute_result"
    }
   ],
   "source": [
    "user_tweets.head()"
   ]
  },
  {
   "attachments": {},
   "cell_type": "markdown",
   "metadata": {},
   "source": [
    "___"
   ]
  },
  {
   "attachments": {},
   "cell_type": "markdown",
   "metadata": {},
   "source": [
    "# Data Exploration, Retrieving Replies, Creating a DataFrame"
   ]
  },
  {
   "attachments": {},
   "cell_type": "markdown",
   "metadata": {},
   "source": [
    "**you can copy paste the screen_name and tweet_id from the dataframe above to search the replies of any tweet pulled**"
   ]
  },
  {
   "cell_type": "code",
   "execution_count": 95,
   "metadata": {},
   "outputs": [],
   "source": [
    "name = 'CryptoKaleo'\n",
    "tweet_id = '1650550715230695434'"
   ]
  },
  {
   "attachments": {},
   "cell_type": "markdown",
   "metadata": {},
   "source": [
    "**Result_type can be 'recent', 'popular', 'mixed':**\n",
    "* Mixed seems to be the best option to get the highest amount of replies from the query\n",
    "* Not guaranteed to get 'hidden' replies which are often the bot replies"
   ]
  },
  {
   "cell_type": "code",
   "execution_count": 96,
   "metadata": {},
   "outputs": [],
   "source": [
    "replies=[]\n",
    "for tweet in tweepy.Cursor(tweepy_api.search_tweets,q='to:'+name, result_type = 'recent', tweet_mode = 'extended').items(100):\n",
    "    if hasattr(tweet, 'in_reply_to_status_id_str'):\n",
    "        if (tweet.in_reply_to_status_id_str==tweet_id):\n",
    "            replies.append(tweet)"
   ]
  },
  {
   "cell_type": "code",
   "execution_count": 97,
   "metadata": {},
   "outputs": [
    {
     "data": {
      "text/plain": [
       "48"
      ]
     },
     "execution_count": 97,
     "metadata": {},
     "output_type": "execute_result"
    }
   ],
   "source": [
    "len(replies)"
   ]
  },
  {
   "cell_type": "code",
   "execution_count": 98,
   "metadata": {},
   "outputs": [
    {
     "data": {
      "text/plain": [
       "[Status(_api=<tweepy.api.API object at 0x0000026D72252B88>, _json={'created_at': 'Mon Apr 24 19:00:51 +0000 2023', 'id': 1650575548035260422, 'id_str': '1650575548035260422', 'full_text': '@CryptoKaleo @ExplainThisBob', 'truncated': False, 'display_text_range': [13, 28], 'entities': {'hashtags': [], 'symbols': [], 'user_mentions': [{'screen_name': 'CryptoKaleo', 'name': 'K A L E O', 'id': 906234475604037637, 'id_str': '906234475604037637', 'indices': [0, 12]}, {'screen_name': 'ExplainThisBob', 'name': 'Bob Is Here To Explain', 'id': 1525739203341918208, 'id_str': '1525739203341918208', 'indices': [13, 28]}], 'urls': []}, 'metadata': {'iso_language_code': 'und', 'result_type': 'recent'}, 'source': '<a href=\"http://twitter.com/download/iphone\" rel=\"nofollow\">Twitter for iPhone</a>', 'in_reply_to_status_id': 1650550715230695434, 'in_reply_to_status_id_str': '1650550715230695434', 'in_reply_to_user_id': 906234475604037637, 'in_reply_to_user_id_str': '906234475604037637', 'in_reply_to_screen_name': 'CryptoKaleo', 'user': {'id': 1337583874201808896, 'id_str': '1337583874201808896', 'name': 'Dream cha💲er', 'screen_name': 'dreamchaserwow', 'location': '', 'description': 'i am still learning / crypto', 'url': None, 'entities': {'description': {'urls': []}}, 'protected': False, 'followers_count': 984, 'friends_count': 1199, 'listed_count': 13, 'created_at': 'Sat Dec 12 02:23:53 +0000 2020', 'favourites_count': 22530, 'utc_offset': None, 'time_zone': None, 'geo_enabled': True, 'verified': False, 'statuses_count': 18653, 'lang': None, 'contributors_enabled': False, 'is_translator': False, 'is_translation_enabled': False, 'profile_background_color': 'F5F8FA', 'profile_background_image_url': None, 'profile_background_image_url_https': None, 'profile_background_tile': False, 'profile_image_url': 'http://pbs.twimg.com/profile_images/1601575816713969665/Kfhp3OqV_normal.jpg', 'profile_image_url_https': 'https://pbs.twimg.com/profile_images/1601575816713969665/Kfhp3OqV_normal.jpg', 'profile_banner_url': 'https://pbs.twimg.com/profile_banners/1337583874201808896/1657923144', 'profile_link_color': '1DA1F2', 'profile_sidebar_border_color': 'C0DEED', 'profile_sidebar_fill_color': 'DDEEF6', 'profile_text_color': '333333', 'profile_use_background_image': True, 'has_extended_profile': True, 'default_profile': True, 'default_profile_image': False, 'following': False, 'follow_request_sent': False, 'notifications': False, 'translator_type': 'none', 'withheld_in_countries': []}, 'geo': None, 'coordinates': None, 'place': None, 'contributors': None, 'is_quote_status': False, 'retweet_count': 0, 'favorite_count': 0, 'favorited': False, 'retweeted': False, 'lang': 'und'}, created_at=datetime.datetime(2023, 4, 24, 19, 0, 51, tzinfo=datetime.timezone.utc), id=1650575548035260422, id_str='1650575548035260422', full_text='@CryptoKaleo @ExplainThisBob', truncated=False, display_text_range=[13, 28], entities={'hashtags': [], 'symbols': [], 'user_mentions': [{'screen_name': 'CryptoKaleo', 'name': 'K A L E O', 'id': 906234475604037637, 'id_str': '906234475604037637', 'indices': [0, 12]}, {'screen_name': 'ExplainThisBob', 'name': 'Bob Is Here To Explain', 'id': 1525739203341918208, 'id_str': '1525739203341918208', 'indices': [13, 28]}], 'urls': []}, metadata={'iso_language_code': 'und', 'result_type': 'recent'}, source='Twitter for iPhone', source_url='http://twitter.com/download/iphone', in_reply_to_status_id=1650550715230695434, in_reply_to_status_id_str='1650550715230695434', in_reply_to_user_id=906234475604037637, in_reply_to_user_id_str='906234475604037637', in_reply_to_screen_name='CryptoKaleo', author=User(_api=<tweepy.api.API object at 0x0000026D72252B88>, _json={'id': 1337583874201808896, 'id_str': '1337583874201808896', 'name': 'Dream cha💲er', 'screen_name': 'dreamchaserwow', 'location': '', 'description': 'i am still learning / crypto', 'url': None, 'entities': {'description': {'urls': []}}, 'protected': False, 'followers_count': 984, 'friends_count': 1199, 'listed_count': 13, 'created_at': 'Sat Dec 12 02:23:53 +0000 2020', 'favourites_count': 22530, 'utc_offset': None, 'time_zone': None, 'geo_enabled': True, 'verified': False, 'statuses_count': 18653, 'lang': None, 'contributors_enabled': False, 'is_translator': False, 'is_translation_enabled': False, 'profile_background_color': 'F5F8FA', 'profile_background_image_url': None, 'profile_background_image_url_https': None, 'profile_background_tile': False, 'profile_image_url': 'http://pbs.twimg.com/profile_images/1601575816713969665/Kfhp3OqV_normal.jpg', 'profile_image_url_https': 'https://pbs.twimg.com/profile_images/1601575816713969665/Kfhp3OqV_normal.jpg', 'profile_banner_url': 'https://pbs.twimg.com/profile_banners/1337583874201808896/1657923144', 'profile_link_color': '1DA1F2', 'profile_sidebar_border_color': 'C0DEED', 'profile_sidebar_fill_color': 'DDEEF6', 'profile_text_color': '333333', 'profile_use_background_image': True, 'has_extended_profile': True, 'default_profile': True, 'default_profile_image': False, 'following': False, 'follow_request_sent': False, 'notifications': False, 'translator_type': 'none', 'withheld_in_countries': []}, id=1337583874201808896, id_str='1337583874201808896', name='Dream cha💲er', screen_name='dreamchaserwow', location='', description='i am still learning / crypto', url=None, entities={'description': {'urls': []}}, protected=False, followers_count=984, friends_count=1199, listed_count=13, created_at=datetime.datetime(2020, 12, 12, 2, 23, 53, tzinfo=datetime.timezone.utc), favourites_count=22530, utc_offset=None, time_zone=None, geo_enabled=True, verified=False, statuses_count=18653, lang=None, contributors_enabled=False, is_translator=False, is_translation_enabled=False, profile_background_color='F5F8FA', profile_background_image_url=None, profile_background_image_url_https=None, profile_background_tile=False, profile_image_url='http://pbs.twimg.com/profile_images/1601575816713969665/Kfhp3OqV_normal.jpg', profile_image_url_https='https://pbs.twimg.com/profile_images/1601575816713969665/Kfhp3OqV_normal.jpg', profile_banner_url='https://pbs.twimg.com/profile_banners/1337583874201808896/1657923144', profile_link_color='1DA1F2', profile_sidebar_border_color='C0DEED', profile_sidebar_fill_color='DDEEF6', profile_text_color='333333', profile_use_background_image=True, has_extended_profile=True, default_profile=True, default_profile_image=False, following=False, follow_request_sent=False, notifications=False, translator_type='none', withheld_in_countries=[]), user=User(_api=<tweepy.api.API object at 0x0000026D72252B88>, _json={'id': 1337583874201808896, 'id_str': '1337583874201808896', 'name': 'Dream cha💲er', 'screen_name': 'dreamchaserwow', 'location': '', 'description': 'i am still learning / crypto', 'url': None, 'entities': {'description': {'urls': []}}, 'protected': False, 'followers_count': 984, 'friends_count': 1199, 'listed_count': 13, 'created_at': 'Sat Dec 12 02:23:53 +0000 2020', 'favourites_count': 22530, 'utc_offset': None, 'time_zone': None, 'geo_enabled': True, 'verified': False, 'statuses_count': 18653, 'lang': None, 'contributors_enabled': False, 'is_translator': False, 'is_translation_enabled': False, 'profile_background_color': 'F5F8FA', 'profile_background_image_url': None, 'profile_background_image_url_https': None, 'profile_background_tile': False, 'profile_image_url': 'http://pbs.twimg.com/profile_images/1601575816713969665/Kfhp3OqV_normal.jpg', 'profile_image_url_https': 'https://pbs.twimg.com/profile_images/1601575816713969665/Kfhp3OqV_normal.jpg', 'profile_banner_url': 'https://pbs.twimg.com/profile_banners/1337583874201808896/1657923144', 'profile_link_color': '1DA1F2', 'profile_sidebar_border_color': 'C0DEED', 'profile_sidebar_fill_color': 'DDEEF6', 'profile_text_color': '333333', 'profile_use_background_image': True, 'has_extended_profile': True, 'default_profile': True, 'default_profile_image': False, 'following': False, 'follow_request_sent': False, 'notifications': False, 'translator_type': 'none', 'withheld_in_countries': []}, id=1337583874201808896, id_str='1337583874201808896', name='Dream cha💲er', screen_name='dreamchaserwow', location='', description='i am still learning / crypto', url=None, entities={'description': {'urls': []}}, protected=False, followers_count=984, friends_count=1199, listed_count=13, created_at=datetime.datetime(2020, 12, 12, 2, 23, 53, tzinfo=datetime.timezone.utc), favourites_count=22530, utc_offset=None, time_zone=None, geo_enabled=True, verified=False, statuses_count=18653, lang=None, contributors_enabled=False, is_translator=False, is_translation_enabled=False, profile_background_color='F5F8FA', profile_background_image_url=None, profile_background_image_url_https=None, profile_background_tile=False, profile_image_url='http://pbs.twimg.com/profile_images/1601575816713969665/Kfhp3OqV_normal.jpg', profile_image_url_https='https://pbs.twimg.com/profile_images/1601575816713969665/Kfhp3OqV_normal.jpg', profile_banner_url='https://pbs.twimg.com/profile_banners/1337583874201808896/1657923144', profile_link_color='1DA1F2', profile_sidebar_border_color='C0DEED', profile_sidebar_fill_color='DDEEF6', profile_text_color='333333', profile_use_background_image=True, has_extended_profile=True, default_profile=True, default_profile_image=False, following=False, follow_request_sent=False, notifications=False, translator_type='none', withheld_in_countries=[]), geo=None, coordinates=None, place=None, contributors=None, is_quote_status=False, retweet_count=0, favorite_count=0, favorited=False, retweeted=False, lang='und'),\n",
       " Status(_api=<tweepy.api.API object at 0x0000026D72252B88>, _json={'created_at': 'Mon Apr 24 19:00:17 +0000 2023', 'id': 1650575403470184480, 'id_str': '1650575403470184480', 'full_text': '@CryptoKaleo Fresh new character https://t.co/EeE5zwg9AD', 'truncated': False, 'display_text_range': [13, 32], 'entities': {'hashtags': [], 'symbols': [], 'user_mentions': [{'screen_name': 'CryptoKaleo', 'name': 'K A L E O', 'id': 906234475604037637, 'id_str': '906234475604037637', 'indices': [0, 12]}], 'urls': [], 'media': [{'id': 1650575400676777987, 'id_str': '1650575400676777987', 'indices': [33, 56], 'media_url': 'http://pbs.twimg.com/media/FugFlPBWYAMTHaJ.jpg', 'media_url_https': 'https://pbs.twimg.com/media/FugFlPBWYAMTHaJ.jpg', 'url': 'https://t.co/EeE5zwg9AD', 'display_url': 'pic.twitter.com/EeE5zwg9AD', 'expanded_url': 'https://twitter.com/ARFunnySeal/status/1650575403470184480/photo/1', 'type': 'photo', 'sizes': {'thumb': {'w': 150, 'h': 150, 'resize': 'crop'}, 'large': {'w': 825, 'h': 811, 'resize': 'fit'}, 'medium': {'w': 825, 'h': 811, 'resize': 'fit'}, 'small': {'w': 680, 'h': 668, 'resize': 'fit'}}}]}, 'extended_entities': {'media': [{'id': 1650575400676777987, 'id_str': '1650575400676777987', 'indices': [33, 56], 'media_url': 'http://pbs.twimg.com/media/FugFlPBWYAMTHaJ.jpg', 'media_url_https': 'https://pbs.twimg.com/media/FugFlPBWYAMTHaJ.jpg', 'url': 'https://t.co/EeE5zwg9AD', 'display_url': 'pic.twitter.com/EeE5zwg9AD', 'expanded_url': 'https://twitter.com/ARFunnySeal/status/1650575403470184480/photo/1', 'type': 'photo', 'sizes': {'thumb': {'w': 150, 'h': 150, 'resize': 'crop'}, 'large': {'w': 825, 'h': 811, 'resize': 'fit'}, 'medium': {'w': 825, 'h': 811, 'resize': 'fit'}, 'small': {'w': 680, 'h': 668, 'resize': 'fit'}}}]}, 'metadata': {'iso_language_code': 'en', 'result_type': 'recent'}, 'source': '<a href=\"http://twitter.com/download/iphone\" rel=\"nofollow\">Twitter for iPhone</a>', 'in_reply_to_status_id': 1650550715230695434, 'in_reply_to_status_id_str': '1650550715230695434', 'in_reply_to_user_id': 906234475604037637, 'in_reply_to_user_id_str': '906234475604037637', 'in_reply_to_screen_name': 'CryptoKaleo', 'user': {'id': 1384653066646003725, 'id_str': '1384653066646003725', 'name': 'Ice Cowboy NYC', 'screen_name': 'ARFunnySeal', 'location': 'Manhattan, NY', 'description': 'NYC 🍎 Woman in Web3! 💁🏼\\u200d♀️', 'url': None, 'entities': {'description': {'urls': []}}, 'protected': False, 'followers_count': 2165, 'friends_count': 1686, 'listed_count': 15, 'created_at': 'Tue Apr 20 23:40:01 +0000 2021', 'favourites_count': 37311, 'utc_offset': None, 'time_zone': None, 'geo_enabled': True, 'verified': False, 'statuses_count': 6588, 'lang': None, 'contributors_enabled': False, 'is_translator': False, 'is_translation_enabled': False, 'profile_background_color': 'F5F8FA', 'profile_background_image_url': None, 'profile_background_image_url_https': None, 'profile_background_tile': False, 'profile_image_url': 'http://pbs.twimg.com/profile_images/1610124721365950464/28--Dmhd_normal.png', 'profile_image_url_https': 'https://pbs.twimg.com/profile_images/1610124721365950464/28--Dmhd_normal.png', 'profile_banner_url': 'https://pbs.twimg.com/profile_banners/1384653066646003725/1673912267', 'profile_link_color': '1DA1F2', 'profile_sidebar_border_color': 'C0DEED', 'profile_sidebar_fill_color': 'DDEEF6', 'profile_text_color': '333333', 'profile_use_background_image': True, 'has_extended_profile': True, 'default_profile': True, 'default_profile_image': False, 'following': False, 'follow_request_sent': False, 'notifications': False, 'translator_type': 'none', 'withheld_in_countries': []}, 'geo': None, 'coordinates': None, 'place': None, 'contributors': None, 'is_quote_status': False, 'retweet_count': 0, 'favorite_count': 0, 'favorited': False, 'retweeted': False, 'possibly_sensitive': False, 'lang': 'en'}, created_at=datetime.datetime(2023, 4, 24, 19, 0, 17, tzinfo=datetime.timezone.utc), id=1650575403470184480, id_str='1650575403470184480', full_text='@CryptoKaleo Fresh new character https://t.co/EeE5zwg9AD', truncated=False, display_text_range=[13, 32], entities={'hashtags': [], 'symbols': [], 'user_mentions': [{'screen_name': 'CryptoKaleo', 'name': 'K A L E O', 'id': 906234475604037637, 'id_str': '906234475604037637', 'indices': [0, 12]}], 'urls': [], 'media': [{'id': 1650575400676777987, 'id_str': '1650575400676777987', 'indices': [33, 56], 'media_url': 'http://pbs.twimg.com/media/FugFlPBWYAMTHaJ.jpg', 'media_url_https': 'https://pbs.twimg.com/media/FugFlPBWYAMTHaJ.jpg', 'url': 'https://t.co/EeE5zwg9AD', 'display_url': 'pic.twitter.com/EeE5zwg9AD', 'expanded_url': 'https://twitter.com/ARFunnySeal/status/1650575403470184480/photo/1', 'type': 'photo', 'sizes': {'thumb': {'w': 150, 'h': 150, 'resize': 'crop'}, 'large': {'w': 825, 'h': 811, 'resize': 'fit'}, 'medium': {'w': 825, 'h': 811, 'resize': 'fit'}, 'small': {'w': 680, 'h': 668, 'resize': 'fit'}}}]}, extended_entities={'media': [{'id': 1650575400676777987, 'id_str': '1650575400676777987', 'indices': [33, 56], 'media_url': 'http://pbs.twimg.com/media/FugFlPBWYAMTHaJ.jpg', 'media_url_https': 'https://pbs.twimg.com/media/FugFlPBWYAMTHaJ.jpg', 'url': 'https://t.co/EeE5zwg9AD', 'display_url': 'pic.twitter.com/EeE5zwg9AD', 'expanded_url': 'https://twitter.com/ARFunnySeal/status/1650575403470184480/photo/1', 'type': 'photo', 'sizes': {'thumb': {'w': 150, 'h': 150, 'resize': 'crop'}, 'large': {'w': 825, 'h': 811, 'resize': 'fit'}, 'medium': {'w': 825, 'h': 811, 'resize': 'fit'}, 'small': {'w': 680, 'h': 668, 'resize': 'fit'}}}]}, metadata={'iso_language_code': 'en', 'result_type': 'recent'}, source='Twitter for iPhone', source_url='http://twitter.com/download/iphone', in_reply_to_status_id=1650550715230695434, in_reply_to_status_id_str='1650550715230695434', in_reply_to_user_id=906234475604037637, in_reply_to_user_id_str='906234475604037637', in_reply_to_screen_name='CryptoKaleo', author=User(_api=<tweepy.api.API object at 0x0000026D72252B88>, _json={'id': 1384653066646003725, 'id_str': '1384653066646003725', 'name': 'Ice Cowboy NYC', 'screen_name': 'ARFunnySeal', 'location': 'Manhattan, NY', 'description': 'NYC 🍎 Woman in Web3! 💁🏼\\u200d♀️', 'url': None, 'entities': {'description': {'urls': []}}, 'protected': False, 'followers_count': 2165, 'friends_count': 1686, 'listed_count': 15, 'created_at': 'Tue Apr 20 23:40:01 +0000 2021', 'favourites_count': 37311, 'utc_offset': None, 'time_zone': None, 'geo_enabled': True, 'verified': False, 'statuses_count': 6588, 'lang': None, 'contributors_enabled': False, 'is_translator': False, 'is_translation_enabled': False, 'profile_background_color': 'F5F8FA', 'profile_background_image_url': None, 'profile_background_image_url_https': None, 'profile_background_tile': False, 'profile_image_url': 'http://pbs.twimg.com/profile_images/1610124721365950464/28--Dmhd_normal.png', 'profile_image_url_https': 'https://pbs.twimg.com/profile_images/1610124721365950464/28--Dmhd_normal.png', 'profile_banner_url': 'https://pbs.twimg.com/profile_banners/1384653066646003725/1673912267', 'profile_link_color': '1DA1F2', 'profile_sidebar_border_color': 'C0DEED', 'profile_sidebar_fill_color': 'DDEEF6', 'profile_text_color': '333333', 'profile_use_background_image': True, 'has_extended_profile': True, 'default_profile': True, 'default_profile_image': False, 'following': False, 'follow_request_sent': False, 'notifications': False, 'translator_type': 'none', 'withheld_in_countries': []}, id=1384653066646003725, id_str='1384653066646003725', name='Ice Cowboy NYC', screen_name='ARFunnySeal', location='Manhattan, NY', description='NYC 🍎 Woman in Web3! 💁🏼\\u200d♀️', url=None, entities={'description': {'urls': []}}, protected=False, followers_count=2165, friends_count=1686, listed_count=15, created_at=datetime.datetime(2021, 4, 20, 23, 40, 1, tzinfo=datetime.timezone.utc), favourites_count=37311, utc_offset=None, time_zone=None, geo_enabled=True, verified=False, statuses_count=6588, lang=None, contributors_enabled=False, is_translator=False, is_translation_enabled=False, profile_background_color='F5F8FA', profile_background_image_url=None, profile_background_image_url_https=None, profile_background_tile=False, profile_image_url='http://pbs.twimg.com/profile_images/1610124721365950464/28--Dmhd_normal.png', profile_image_url_https='https://pbs.twimg.com/profile_images/1610124721365950464/28--Dmhd_normal.png', profile_banner_url='https://pbs.twimg.com/profile_banners/1384653066646003725/1673912267', profile_link_color='1DA1F2', profile_sidebar_border_color='C0DEED', profile_sidebar_fill_color='DDEEF6', profile_text_color='333333', profile_use_background_image=True, has_extended_profile=True, default_profile=True, default_profile_image=False, following=False, follow_request_sent=False, notifications=False, translator_type='none', withheld_in_countries=[]), user=User(_api=<tweepy.api.API object at 0x0000026D72252B88>, _json={'id': 1384653066646003725, 'id_str': '1384653066646003725', 'name': 'Ice Cowboy NYC', 'screen_name': 'ARFunnySeal', 'location': 'Manhattan, NY', 'description': 'NYC 🍎 Woman in Web3! 💁🏼\\u200d♀️', 'url': None, 'entities': {'description': {'urls': []}}, 'protected': False, 'followers_count': 2165, 'friends_count': 1686, 'listed_count': 15, 'created_at': 'Tue Apr 20 23:40:01 +0000 2021', 'favourites_count': 37311, 'utc_offset': None, 'time_zone': None, 'geo_enabled': True, 'verified': False, 'statuses_count': 6588, 'lang': None, 'contributors_enabled': False, 'is_translator': False, 'is_translation_enabled': False, 'profile_background_color': 'F5F8FA', 'profile_background_image_url': None, 'profile_background_image_url_https': None, 'profile_background_tile': False, 'profile_image_url': 'http://pbs.twimg.com/profile_images/1610124721365950464/28--Dmhd_normal.png', 'profile_image_url_https': 'https://pbs.twimg.com/profile_images/1610124721365950464/28--Dmhd_normal.png', 'profile_banner_url': 'https://pbs.twimg.com/profile_banners/1384653066646003725/1673912267', 'profile_link_color': '1DA1F2', 'profile_sidebar_border_color': 'C0DEED', 'profile_sidebar_fill_color': 'DDEEF6', 'profile_text_color': '333333', 'profile_use_background_image': True, 'has_extended_profile': True, 'default_profile': True, 'default_profile_image': False, 'following': False, 'follow_request_sent': False, 'notifications': False, 'translator_type': 'none', 'withheld_in_countries': []}, id=1384653066646003725, id_str='1384653066646003725', name='Ice Cowboy NYC', screen_name='ARFunnySeal', location='Manhattan, NY', description='NYC 🍎 Woman in Web3! 💁🏼\\u200d♀️', url=None, entities={'description': {'urls': []}}, protected=False, followers_count=2165, friends_count=1686, listed_count=15, created_at=datetime.datetime(2021, 4, 20, 23, 40, 1, tzinfo=datetime.timezone.utc), favourites_count=37311, utc_offset=None, time_zone=None, geo_enabled=True, verified=False, statuses_count=6588, lang=None, contributors_enabled=False, is_translator=False, is_translation_enabled=False, profile_background_color='F5F8FA', profile_background_image_url=None, profile_background_image_url_https=None, profile_background_tile=False, profile_image_url='http://pbs.twimg.com/profile_images/1610124721365950464/28--Dmhd_normal.png', profile_image_url_https='https://pbs.twimg.com/profile_images/1610124721365950464/28--Dmhd_normal.png', profile_banner_url='https://pbs.twimg.com/profile_banners/1384653066646003725/1673912267', profile_link_color='1DA1F2', profile_sidebar_border_color='C0DEED', profile_sidebar_fill_color='DDEEF6', profile_text_color='333333', profile_use_background_image=True, has_extended_profile=True, default_profile=True, default_profile_image=False, following=False, follow_request_sent=False, notifications=False, translator_type='none', withheld_in_countries=[]), geo=None, coordinates=None, place=None, contributors=None, is_quote_status=False, retweet_count=0, favorite_count=0, favorited=False, retweeted=False, possibly_sensitive=False, lang='en'),\n",
       " Status(_api=<tweepy.api.API object at 0x0000026D72252B88>, _json={'created_at': 'Mon Apr 24 18:59:37 +0000 2023', 'id': 1650575239389011979, 'id_str': '1650575239389011979', 'full_text': '@CryptoKaleo And when you do, I will create a meme coin for the new character', 'truncated': False, 'display_text_range': [13, 77], 'entities': {'hashtags': [], 'symbols': [], 'user_mentions': [{'screen_name': 'CryptoKaleo', 'name': 'K A L E O', 'id': 906234475604037637, 'id_str': '906234475604037637', 'indices': [0, 12]}], 'urls': []}, 'metadata': {'iso_language_code': 'en', 'result_type': 'recent'}, 'source': '<a href=\"http://twitter.com/download/android\" rel=\"nofollow\">Twitter for Android</a>', 'in_reply_to_status_id': 1650550715230695434, 'in_reply_to_status_id_str': '1650550715230695434', 'in_reply_to_user_id': 906234475604037637, 'in_reply_to_user_id_str': '906234475604037637', 'in_reply_to_screen_name': 'CryptoKaleo', 'user': {'id': 1448588947676876808, 'id_str': '1448588947676876808', 'name': 'CIA', 'screen_name': 'TheCryptoCIA', 'location': '', 'description': 'Crypto swing trader and long term investor. No financial advice!', 'url': None, 'entities': {'description': {'urls': []}}, 'protected': False, 'followers_count': 33, 'friends_count': 316, 'listed_count': 13, 'created_at': 'Thu Oct 14 09:58:41 +0000 2021', 'favourites_count': 1003, 'utc_offset': None, 'time_zone': None, 'geo_enabled': False, 'verified': False, 'statuses_count': 1072, 'lang': None, 'contributors_enabled': False, 'is_translator': False, 'is_translation_enabled': False, 'profile_background_color': 'F5F8FA', 'profile_background_image_url': None, 'profile_background_image_url_https': None, 'profile_background_tile': False, 'profile_image_url': 'http://pbs.twimg.com/profile_images/1588106105137381378/6UdP8Hph_normal.jpg', 'profile_image_url_https': 'https://pbs.twimg.com/profile_images/1588106105137381378/6UdP8Hph_normal.jpg', 'profile_banner_url': 'https://pbs.twimg.com/profile_banners/1448588947676876808/1667469014', 'profile_link_color': '1DA1F2', 'profile_sidebar_border_color': 'C0DEED', 'profile_sidebar_fill_color': 'DDEEF6', 'profile_text_color': '333333', 'profile_use_background_image': True, 'has_extended_profile': False, 'default_profile': True, 'default_profile_image': False, 'following': False, 'follow_request_sent': False, 'notifications': False, 'translator_type': 'none', 'withheld_in_countries': []}, 'geo': None, 'coordinates': None, 'place': None, 'contributors': None, 'is_quote_status': False, 'retweet_count': 0, 'favorite_count': 0, 'favorited': False, 'retweeted': False, 'lang': 'en'}, created_at=datetime.datetime(2023, 4, 24, 18, 59, 37, tzinfo=datetime.timezone.utc), id=1650575239389011979, id_str='1650575239389011979', full_text='@CryptoKaleo And when you do, I will create a meme coin for the new character', truncated=False, display_text_range=[13, 77], entities={'hashtags': [], 'symbols': [], 'user_mentions': [{'screen_name': 'CryptoKaleo', 'name': 'K A L E O', 'id': 906234475604037637, 'id_str': '906234475604037637', 'indices': [0, 12]}], 'urls': []}, metadata={'iso_language_code': 'en', 'result_type': 'recent'}, source='Twitter for Android', source_url='http://twitter.com/download/android', in_reply_to_status_id=1650550715230695434, in_reply_to_status_id_str='1650550715230695434', in_reply_to_user_id=906234475604037637, in_reply_to_user_id_str='906234475604037637', in_reply_to_screen_name='CryptoKaleo', author=User(_api=<tweepy.api.API object at 0x0000026D72252B88>, _json={'id': 1448588947676876808, 'id_str': '1448588947676876808', 'name': 'CIA', 'screen_name': 'TheCryptoCIA', 'location': '', 'description': 'Crypto swing trader and long term investor. No financial advice!', 'url': None, 'entities': {'description': {'urls': []}}, 'protected': False, 'followers_count': 33, 'friends_count': 316, 'listed_count': 13, 'created_at': 'Thu Oct 14 09:58:41 +0000 2021', 'favourites_count': 1003, 'utc_offset': None, 'time_zone': None, 'geo_enabled': False, 'verified': False, 'statuses_count': 1072, 'lang': None, 'contributors_enabled': False, 'is_translator': False, 'is_translation_enabled': False, 'profile_background_color': 'F5F8FA', 'profile_background_image_url': None, 'profile_background_image_url_https': None, 'profile_background_tile': False, 'profile_image_url': 'http://pbs.twimg.com/profile_images/1588106105137381378/6UdP8Hph_normal.jpg', 'profile_image_url_https': 'https://pbs.twimg.com/profile_images/1588106105137381378/6UdP8Hph_normal.jpg', 'profile_banner_url': 'https://pbs.twimg.com/profile_banners/1448588947676876808/1667469014', 'profile_link_color': '1DA1F2', 'profile_sidebar_border_color': 'C0DEED', 'profile_sidebar_fill_color': 'DDEEF6', 'profile_text_color': '333333', 'profile_use_background_image': True, 'has_extended_profile': False, 'default_profile': True, 'default_profile_image': False, 'following': False, 'follow_request_sent': False, 'notifications': False, 'translator_type': 'none', 'withheld_in_countries': []}, id=1448588947676876808, id_str='1448588947676876808', name='CIA', screen_name='TheCryptoCIA', location='', description='Crypto swing trader and long term investor. No financial advice!', url=None, entities={'description': {'urls': []}}, protected=False, followers_count=33, friends_count=316, listed_count=13, created_at=datetime.datetime(2021, 10, 14, 9, 58, 41, tzinfo=datetime.timezone.utc), favourites_count=1003, utc_offset=None, time_zone=None, geo_enabled=False, verified=False, statuses_count=1072, lang=None, contributors_enabled=False, is_translator=False, is_translation_enabled=False, profile_background_color='F5F8FA', profile_background_image_url=None, profile_background_image_url_https=None, profile_background_tile=False, profile_image_url='http://pbs.twimg.com/profile_images/1588106105137381378/6UdP8Hph_normal.jpg', profile_image_url_https='https://pbs.twimg.com/profile_images/1588106105137381378/6UdP8Hph_normal.jpg', profile_banner_url='https://pbs.twimg.com/profile_banners/1448588947676876808/1667469014', profile_link_color='1DA1F2', profile_sidebar_border_color='C0DEED', profile_sidebar_fill_color='DDEEF6', profile_text_color='333333', profile_use_background_image=True, has_extended_profile=False, default_profile=True, default_profile_image=False, following=False, follow_request_sent=False, notifications=False, translator_type='none', withheld_in_countries=[]), user=User(_api=<tweepy.api.API object at 0x0000026D72252B88>, _json={'id': 1448588947676876808, 'id_str': '1448588947676876808', 'name': 'CIA', 'screen_name': 'TheCryptoCIA', 'location': '', 'description': 'Crypto swing trader and long term investor. No financial advice!', 'url': None, 'entities': {'description': {'urls': []}}, 'protected': False, 'followers_count': 33, 'friends_count': 316, 'listed_count': 13, 'created_at': 'Thu Oct 14 09:58:41 +0000 2021', 'favourites_count': 1003, 'utc_offset': None, 'time_zone': None, 'geo_enabled': False, 'verified': False, 'statuses_count': 1072, 'lang': None, 'contributors_enabled': False, 'is_translator': False, 'is_translation_enabled': False, 'profile_background_color': 'F5F8FA', 'profile_background_image_url': None, 'profile_background_image_url_https': None, 'profile_background_tile': False, 'profile_image_url': 'http://pbs.twimg.com/profile_images/1588106105137381378/6UdP8Hph_normal.jpg', 'profile_image_url_https': 'https://pbs.twimg.com/profile_images/1588106105137381378/6UdP8Hph_normal.jpg', 'profile_banner_url': 'https://pbs.twimg.com/profile_banners/1448588947676876808/1667469014', 'profile_link_color': '1DA1F2', 'profile_sidebar_border_color': 'C0DEED', 'profile_sidebar_fill_color': 'DDEEF6', 'profile_text_color': '333333', 'profile_use_background_image': True, 'has_extended_profile': False, 'default_profile': True, 'default_profile_image': False, 'following': False, 'follow_request_sent': False, 'notifications': False, 'translator_type': 'none', 'withheld_in_countries': []}, id=1448588947676876808, id_str='1448588947676876808', name='CIA', screen_name='TheCryptoCIA', location='', description='Crypto swing trader and long term investor. No financial advice!', url=None, entities={'description': {'urls': []}}, protected=False, followers_count=33, friends_count=316, listed_count=13, created_at=datetime.datetime(2021, 10, 14, 9, 58, 41, tzinfo=datetime.timezone.utc), favourites_count=1003, utc_offset=None, time_zone=None, geo_enabled=False, verified=False, statuses_count=1072, lang=None, contributors_enabled=False, is_translator=False, is_translation_enabled=False, profile_background_color='F5F8FA', profile_background_image_url=None, profile_background_image_url_https=None, profile_background_tile=False, profile_image_url='http://pbs.twimg.com/profile_images/1588106105137381378/6UdP8Hph_normal.jpg', profile_image_url_https='https://pbs.twimg.com/profile_images/1588106105137381378/6UdP8Hph_normal.jpg', profile_banner_url='https://pbs.twimg.com/profile_banners/1448588947676876808/1667469014', profile_link_color='1DA1F2', profile_sidebar_border_color='C0DEED', profile_sidebar_fill_color='DDEEF6', profile_text_color='333333', profile_use_background_image=True, has_extended_profile=False, default_profile=True, default_profile_image=False, following=False, follow_request_sent=False, notifications=False, translator_type='none', withheld_in_countries=[]), geo=None, coordinates=None, place=None, contributors=None, is_quote_status=False, retweet_count=0, favorite_count=0, favorited=False, retweeted=False, lang='en'),\n",
       " Status(_api=<tweepy.api.API object at 0x0000026D72252B88>, _json={'created_at': 'Mon Apr 24 18:57:20 +0000 2023', 'id': 1650574664689942529, 'id_str': '1650574664689942529', 'full_text': '@CryptoKaleo They seized the memes ser.', 'truncated': False, 'display_text_range': [13, 39], 'entities': {'hashtags': [], 'symbols': [], 'user_mentions': [{'screen_name': 'CryptoKaleo', 'name': 'K A L E O', 'id': 906234475604037637, 'id_str': '906234475604037637', 'indices': [0, 12]}], 'urls': []}, 'metadata': {'iso_language_code': 'en', 'result_type': 'recent'}, 'source': '<a href=\"http://twitter.com/download/iphone\" rel=\"nofollow\">Twitter for iPhone</a>', 'in_reply_to_status_id': 1650550715230695434, 'in_reply_to_status_id_str': '1650550715230695434', 'in_reply_to_user_id': 906234475604037637, 'in_reply_to_user_id_str': '906234475604037637', 'in_reply_to_screen_name': 'CryptoKaleo', 'user': {'id': 519963356, 'id_str': '519963356', 'name': 'dustinrizzo.eth.bonk {Gods} 🔺', 'screen_name': 'DustinRizzo', 'location': 'Everywhere and anywhere', 'description': 'transactional engineer in search of Ai assistant…... gm = fountain of youth, make it your mantra, show up and dreams come true…………… .Com will be replaced by .Ai', 'url': None, 'entities': {'description': {'urls': []}}, 'protected': False, 'followers_count': 658, 'friends_count': 1655, 'listed_count': 24, 'created_at': 'Sat Mar 10 00:49:41 +0000 2012', 'favourites_count': 71765, 'utc_offset': None, 'time_zone': None, 'geo_enabled': True, 'verified': False, 'statuses_count': 15200, 'lang': None, 'contributors_enabled': False, 'is_translator': False, 'is_translation_enabled': False, 'profile_background_color': 'C0DEED', 'profile_background_image_url': 'http://abs.twimg.com/images/themes/theme1/bg.png', 'profile_background_image_url_https': 'https://abs.twimg.com/images/themes/theme1/bg.png', 'profile_background_tile': False, 'profile_image_url': 'http://pbs.twimg.com/profile_images/1650006391787245573/Mm0pV12z_normal.jpg', 'profile_image_url_https': 'https://pbs.twimg.com/profile_images/1650006391787245573/Mm0pV12z_normal.jpg', 'profile_banner_url': 'https://pbs.twimg.com/profile_banners/519963356/1648918980', 'profile_link_color': '1DA1F2', 'profile_sidebar_border_color': 'C0DEED', 'profile_sidebar_fill_color': 'DDEEF6', 'profile_text_color': '333333', 'profile_use_background_image': True, 'has_extended_profile': False, 'default_profile': True, 'default_profile_image': False, 'following': False, 'follow_request_sent': False, 'notifications': False, 'translator_type': 'none', 'withheld_in_countries': []}, 'geo': None, 'coordinates': None, 'place': None, 'contributors': None, 'is_quote_status': False, 'retweet_count': 0, 'favorite_count': 0, 'favorited': False, 'retweeted': False, 'lang': 'en'}, created_at=datetime.datetime(2023, 4, 24, 18, 57, 20, tzinfo=datetime.timezone.utc), id=1650574664689942529, id_str='1650574664689942529', full_text='@CryptoKaleo They seized the memes ser.', truncated=False, display_text_range=[13, 39], entities={'hashtags': [], 'symbols': [], 'user_mentions': [{'screen_name': 'CryptoKaleo', 'name': 'K A L E O', 'id': 906234475604037637, 'id_str': '906234475604037637', 'indices': [0, 12]}], 'urls': []}, metadata={'iso_language_code': 'en', 'result_type': 'recent'}, source='Twitter for iPhone', source_url='http://twitter.com/download/iphone', in_reply_to_status_id=1650550715230695434, in_reply_to_status_id_str='1650550715230695434', in_reply_to_user_id=906234475604037637, in_reply_to_user_id_str='906234475604037637', in_reply_to_screen_name='CryptoKaleo', author=User(_api=<tweepy.api.API object at 0x0000026D72252B88>, _json={'id': 519963356, 'id_str': '519963356', 'name': 'dustinrizzo.eth.bonk {Gods} 🔺', 'screen_name': 'DustinRizzo', 'location': 'Everywhere and anywhere', 'description': 'transactional engineer in search of Ai assistant…... gm = fountain of youth, make it your mantra, show up and dreams come true…………… .Com will be replaced by .Ai', 'url': None, 'entities': {'description': {'urls': []}}, 'protected': False, 'followers_count': 658, 'friends_count': 1655, 'listed_count': 24, 'created_at': 'Sat Mar 10 00:49:41 +0000 2012', 'favourites_count': 71765, 'utc_offset': None, 'time_zone': None, 'geo_enabled': True, 'verified': False, 'statuses_count': 15200, 'lang': None, 'contributors_enabled': False, 'is_translator': False, 'is_translation_enabled': False, 'profile_background_color': 'C0DEED', 'profile_background_image_url': 'http://abs.twimg.com/images/themes/theme1/bg.png', 'profile_background_image_url_https': 'https://abs.twimg.com/images/themes/theme1/bg.png', 'profile_background_tile': False, 'profile_image_url': 'http://pbs.twimg.com/profile_images/1650006391787245573/Mm0pV12z_normal.jpg', 'profile_image_url_https': 'https://pbs.twimg.com/profile_images/1650006391787245573/Mm0pV12z_normal.jpg', 'profile_banner_url': 'https://pbs.twimg.com/profile_banners/519963356/1648918980', 'profile_link_color': '1DA1F2', 'profile_sidebar_border_color': 'C0DEED', 'profile_sidebar_fill_color': 'DDEEF6', 'profile_text_color': '333333', 'profile_use_background_image': True, 'has_extended_profile': False, 'default_profile': True, 'default_profile_image': False, 'following': False, 'follow_request_sent': False, 'notifications': False, 'translator_type': 'none', 'withheld_in_countries': []}, id=519963356, id_str='519963356', name='dustinrizzo.eth.bonk {Gods} 🔺', screen_name='DustinRizzo', location='Everywhere and anywhere', description='transactional engineer in search of Ai assistant…... gm = fountain of youth, make it your mantra, show up and dreams come true…………… .Com will be replaced by .Ai', url=None, entities={'description': {'urls': []}}, protected=False, followers_count=658, friends_count=1655, listed_count=24, created_at=datetime.datetime(2012, 3, 10, 0, 49, 41, tzinfo=datetime.timezone.utc), favourites_count=71765, utc_offset=None, time_zone=None, geo_enabled=True, verified=False, statuses_count=15200, lang=None, contributors_enabled=False, is_translator=False, is_translation_enabled=False, profile_background_color='C0DEED', profile_background_image_url='http://abs.twimg.com/images/themes/theme1/bg.png', profile_background_image_url_https='https://abs.twimg.com/images/themes/theme1/bg.png', profile_background_tile=False, profile_image_url='http://pbs.twimg.com/profile_images/1650006391787245573/Mm0pV12z_normal.jpg', profile_image_url_https='https://pbs.twimg.com/profile_images/1650006391787245573/Mm0pV12z_normal.jpg', profile_banner_url='https://pbs.twimg.com/profile_banners/519963356/1648918980', profile_link_color='1DA1F2', profile_sidebar_border_color='C0DEED', profile_sidebar_fill_color='DDEEF6', profile_text_color='333333', profile_use_background_image=True, has_extended_profile=False, default_profile=True, default_profile_image=False, following=False, follow_request_sent=False, notifications=False, translator_type='none', withheld_in_countries=[]), user=User(_api=<tweepy.api.API object at 0x0000026D72252B88>, _json={'id': 519963356, 'id_str': '519963356', 'name': 'dustinrizzo.eth.bonk {Gods} 🔺', 'screen_name': 'DustinRizzo', 'location': 'Everywhere and anywhere', 'description': 'transactional engineer in search of Ai assistant…... gm = fountain of youth, make it your mantra, show up and dreams come true…………… .Com will be replaced by .Ai', 'url': None, 'entities': {'description': {'urls': []}}, 'protected': False, 'followers_count': 658, 'friends_count': 1655, 'listed_count': 24, 'created_at': 'Sat Mar 10 00:49:41 +0000 2012', 'favourites_count': 71765, 'utc_offset': None, 'time_zone': None, 'geo_enabled': True, 'verified': False, 'statuses_count': 15200, 'lang': None, 'contributors_enabled': False, 'is_translator': False, 'is_translation_enabled': False, 'profile_background_color': 'C0DEED', 'profile_background_image_url': 'http://abs.twimg.com/images/themes/theme1/bg.png', 'profile_background_image_url_https': 'https://abs.twimg.com/images/themes/theme1/bg.png', 'profile_background_tile': False, 'profile_image_url': 'http://pbs.twimg.com/profile_images/1650006391787245573/Mm0pV12z_normal.jpg', 'profile_image_url_https': 'https://pbs.twimg.com/profile_images/1650006391787245573/Mm0pV12z_normal.jpg', 'profile_banner_url': 'https://pbs.twimg.com/profile_banners/519963356/1648918980', 'profile_link_color': '1DA1F2', 'profile_sidebar_border_color': 'C0DEED', 'profile_sidebar_fill_color': 'DDEEF6', 'profile_text_color': '333333', 'profile_use_background_image': True, 'has_extended_profile': False, 'default_profile': True, 'default_profile_image': False, 'following': False, 'follow_request_sent': False, 'notifications': False, 'translator_type': 'none', 'withheld_in_countries': []}, id=519963356, id_str='519963356', name='dustinrizzo.eth.bonk {Gods} 🔺', screen_name='DustinRizzo', location='Everywhere and anywhere', description='transactional engineer in search of Ai assistant…... gm = fountain of youth, make it your mantra, show up and dreams come true…………… .Com will be replaced by .Ai', url=None, entities={'description': {'urls': []}}, protected=False, followers_count=658, friends_count=1655, listed_count=24, created_at=datetime.datetime(2012, 3, 10, 0, 49, 41, tzinfo=datetime.timezone.utc), favourites_count=71765, utc_offset=None, time_zone=None, geo_enabled=True, verified=False, statuses_count=15200, lang=None, contributors_enabled=False, is_translator=False, is_translation_enabled=False, profile_background_color='C0DEED', profile_background_image_url='http://abs.twimg.com/images/themes/theme1/bg.png', profile_background_image_url_https='https://abs.twimg.com/images/themes/theme1/bg.png', profile_background_tile=False, profile_image_url='http://pbs.twimg.com/profile_images/1650006391787245573/Mm0pV12z_normal.jpg', profile_image_url_https='https://pbs.twimg.com/profile_images/1650006391787245573/Mm0pV12z_normal.jpg', profile_banner_url='https://pbs.twimg.com/profile_banners/519963356/1648918980', profile_link_color='1DA1F2', profile_sidebar_border_color='C0DEED', profile_sidebar_fill_color='DDEEF6', profile_text_color='333333', profile_use_background_image=True, has_extended_profile=False, default_profile=True, default_profile_image=False, following=False, follow_request_sent=False, notifications=False, translator_type='none', withheld_in_countries=[]), geo=None, coordinates=None, place=None, contributors=None, is_quote_status=False, retweet_count=0, favorite_count=0, favorited=False, retweeted=False, lang='en'),\n",
       " Status(_api=<tweepy.api.API object at 0x0000026D72252B88>, _json={'created_at': 'Mon Apr 24 18:56:28 +0000 2023', 'id': 1650574446137057280, 'id_str': '1650574446137057280', 'full_text': '@CryptoKaleo The wonky stonker', 'truncated': False, 'display_text_range': [13, 30], 'entities': {'hashtags': [], 'symbols': [], 'user_mentions': [{'screen_name': 'CryptoKaleo', 'name': 'K A L E O', 'id': 906234475604037637, 'id_str': '906234475604037637', 'indices': [0, 12]}], 'urls': []}, 'metadata': {'iso_language_code': 'en', 'result_type': 'recent'}, 'source': '<a href=\"http://twitter.com/download/iphone\" rel=\"nofollow\">Twitter for iPhone</a>', 'in_reply_to_status_id': 1650550715230695434, 'in_reply_to_status_id_str': '1650550715230695434', 'in_reply_to_user_id': 906234475604037637, 'in_reply_to_user_id_str': '906234475604037637', 'in_reply_to_screen_name': 'CryptoKaleo', 'user': {'id': 1251574646450896896, 'id_str': '1251574646450896896', 'name': 'Mr. 🖍 (💙,🧡)', 'screen_name': 'Carolina4Crypto', 'location': 'Pixlverse', 'description': 'Crypto 20’ | Sappy Seals | Pixl Pets | IronSquishie | Plague | COBI | Roo | BGK | just a 🖍 | Ambassador @magically_gg | #LinkMarine | Blank space for my future', 'url': None, 'entities': {'description': {'urls': []}}, 'protected': False, 'followers_count': 6338, 'friends_count': 6231, 'listed_count': 57, 'created_at': 'Sat Apr 18 18:13:54 +0000 2020', 'favourites_count': 103304, 'utc_offset': None, 'time_zone': None, 'geo_enabled': False, 'verified': False, 'statuses_count': 52638, 'lang': None, 'contributors_enabled': False, 'is_translator': False, 'is_translation_enabled': False, 'profile_background_color': 'F5F8FA', 'profile_background_image_url': None, 'profile_background_image_url_https': None, 'profile_background_tile': False, 'profile_image_url': 'http://pbs.twimg.com/profile_images/1617981483083354118/px-9dLGQ_normal.jpg', 'profile_image_url_https': 'https://pbs.twimg.com/profile_images/1617981483083354118/px-9dLGQ_normal.jpg', 'profile_banner_url': 'https://pbs.twimg.com/profile_banners/1251574646450896896/1672271095', 'profile_link_color': '1DA1F2', 'profile_sidebar_border_color': 'C0DEED', 'profile_sidebar_fill_color': 'DDEEF6', 'profile_text_color': '333333', 'profile_use_background_image': True, 'has_extended_profile': True, 'default_profile': True, 'default_profile_image': False, 'following': False, 'follow_request_sent': False, 'notifications': False, 'translator_type': 'none', 'withheld_in_countries': []}, 'geo': None, 'coordinates': None, 'place': None, 'contributors': None, 'is_quote_status': False, 'retweet_count': 0, 'favorite_count': 0, 'favorited': False, 'retweeted': False, 'lang': 'en'}, created_at=datetime.datetime(2023, 4, 24, 18, 56, 28, tzinfo=datetime.timezone.utc), id=1650574446137057280, id_str='1650574446137057280', full_text='@CryptoKaleo The wonky stonker', truncated=False, display_text_range=[13, 30], entities={'hashtags': [], 'symbols': [], 'user_mentions': [{'screen_name': 'CryptoKaleo', 'name': 'K A L E O', 'id': 906234475604037637, 'id_str': '906234475604037637', 'indices': [0, 12]}], 'urls': []}, metadata={'iso_language_code': 'en', 'result_type': 'recent'}, source='Twitter for iPhone', source_url='http://twitter.com/download/iphone', in_reply_to_status_id=1650550715230695434, in_reply_to_status_id_str='1650550715230695434', in_reply_to_user_id=906234475604037637, in_reply_to_user_id_str='906234475604037637', in_reply_to_screen_name='CryptoKaleo', author=User(_api=<tweepy.api.API object at 0x0000026D72252B88>, _json={'id': 1251574646450896896, 'id_str': '1251574646450896896', 'name': 'Mr. 🖍 (💙,🧡)', 'screen_name': 'Carolina4Crypto', 'location': 'Pixlverse', 'description': 'Crypto 20’ | Sappy Seals | Pixl Pets | IronSquishie | Plague | COBI | Roo | BGK | just a 🖍 | Ambassador @magically_gg | #LinkMarine | Blank space for my future', 'url': None, 'entities': {'description': {'urls': []}}, 'protected': False, 'followers_count': 6338, 'friends_count': 6231, 'listed_count': 57, 'created_at': 'Sat Apr 18 18:13:54 +0000 2020', 'favourites_count': 103304, 'utc_offset': None, 'time_zone': None, 'geo_enabled': False, 'verified': False, 'statuses_count': 52638, 'lang': None, 'contributors_enabled': False, 'is_translator': False, 'is_translation_enabled': False, 'profile_background_color': 'F5F8FA', 'profile_background_image_url': None, 'profile_background_image_url_https': None, 'profile_background_tile': False, 'profile_image_url': 'http://pbs.twimg.com/profile_images/1617981483083354118/px-9dLGQ_normal.jpg', 'profile_image_url_https': 'https://pbs.twimg.com/profile_images/1617981483083354118/px-9dLGQ_normal.jpg', 'profile_banner_url': 'https://pbs.twimg.com/profile_banners/1251574646450896896/1672271095', 'profile_link_color': '1DA1F2', 'profile_sidebar_border_color': 'C0DEED', 'profile_sidebar_fill_color': 'DDEEF6', 'profile_text_color': '333333', 'profile_use_background_image': True, 'has_extended_profile': True, 'default_profile': True, 'default_profile_image': False, 'following': False, 'follow_request_sent': False, 'notifications': False, 'translator_type': 'none', 'withheld_in_countries': []}, id=1251574646450896896, id_str='1251574646450896896', name='Mr. 🖍 (💙,🧡)', screen_name='Carolina4Crypto', location='Pixlverse', description='Crypto 20’ | Sappy Seals | Pixl Pets | IronSquishie | Plague | COBI | Roo | BGK | just a 🖍 | Ambassador @magically_gg | #LinkMarine | Blank space for my future', url=None, entities={'description': {'urls': []}}, protected=False, followers_count=6338, friends_count=6231, listed_count=57, created_at=datetime.datetime(2020, 4, 18, 18, 13, 54, tzinfo=datetime.timezone.utc), favourites_count=103304, utc_offset=None, time_zone=None, geo_enabled=False, verified=False, statuses_count=52638, lang=None, contributors_enabled=False, is_translator=False, is_translation_enabled=False, profile_background_color='F5F8FA', profile_background_image_url=None, profile_background_image_url_https=None, profile_background_tile=False, profile_image_url='http://pbs.twimg.com/profile_images/1617981483083354118/px-9dLGQ_normal.jpg', profile_image_url_https='https://pbs.twimg.com/profile_images/1617981483083354118/px-9dLGQ_normal.jpg', profile_banner_url='https://pbs.twimg.com/profile_banners/1251574646450896896/1672271095', profile_link_color='1DA1F2', profile_sidebar_border_color='C0DEED', profile_sidebar_fill_color='DDEEF6', profile_text_color='333333', profile_use_background_image=True, has_extended_profile=True, default_profile=True, default_profile_image=False, following=False, follow_request_sent=False, notifications=False, translator_type='none', withheld_in_countries=[]), user=User(_api=<tweepy.api.API object at 0x0000026D72252B88>, _json={'id': 1251574646450896896, 'id_str': '1251574646450896896', 'name': 'Mr. 🖍 (💙,🧡)', 'screen_name': 'Carolina4Crypto', 'location': 'Pixlverse', 'description': 'Crypto 20’ | Sappy Seals | Pixl Pets | IronSquishie | Plague | COBI | Roo | BGK | just a 🖍 | Ambassador @magically_gg | #LinkMarine | Blank space for my future', 'url': None, 'entities': {'description': {'urls': []}}, 'protected': False, 'followers_count': 6338, 'friends_count': 6231, 'listed_count': 57, 'created_at': 'Sat Apr 18 18:13:54 +0000 2020', 'favourites_count': 103304, 'utc_offset': None, 'time_zone': None, 'geo_enabled': False, 'verified': False, 'statuses_count': 52638, 'lang': None, 'contributors_enabled': False, 'is_translator': False, 'is_translation_enabled': False, 'profile_background_color': 'F5F8FA', 'profile_background_image_url': None, 'profile_background_image_url_https': None, 'profile_background_tile': False, 'profile_image_url': 'http://pbs.twimg.com/profile_images/1617981483083354118/px-9dLGQ_normal.jpg', 'profile_image_url_https': 'https://pbs.twimg.com/profile_images/1617981483083354118/px-9dLGQ_normal.jpg', 'profile_banner_url': 'https://pbs.twimg.com/profile_banners/1251574646450896896/1672271095', 'profile_link_color': '1DA1F2', 'profile_sidebar_border_color': 'C0DEED', 'profile_sidebar_fill_color': 'DDEEF6', 'profile_text_color': '333333', 'profile_use_background_image': True, 'has_extended_profile': True, 'default_profile': True, 'default_profile_image': False, 'following': False, 'follow_request_sent': False, 'notifications': False, 'translator_type': 'none', 'withheld_in_countries': []}, id=1251574646450896896, id_str='1251574646450896896', name='Mr. 🖍 (💙,🧡)', screen_name='Carolina4Crypto', location='Pixlverse', description='Crypto 20’ | Sappy Seals | Pixl Pets | IronSquishie | Plague | COBI | Roo | BGK | just a 🖍 | Ambassador @magically_gg | #LinkMarine | Blank space for my future', url=None, entities={'description': {'urls': []}}, protected=False, followers_count=6338, friends_count=6231, listed_count=57, created_at=datetime.datetime(2020, 4, 18, 18, 13, 54, tzinfo=datetime.timezone.utc), favourites_count=103304, utc_offset=None, time_zone=None, geo_enabled=False, verified=False, statuses_count=52638, lang=None, contributors_enabled=False, is_translator=False, is_translation_enabled=False, profile_background_color='F5F8FA', profile_background_image_url=None, profile_background_image_url_https=None, profile_background_tile=False, profile_image_url='http://pbs.twimg.com/profile_images/1617981483083354118/px-9dLGQ_normal.jpg', profile_image_url_https='https://pbs.twimg.com/profile_images/1617981483083354118/px-9dLGQ_normal.jpg', profile_banner_url='https://pbs.twimg.com/profile_banners/1251574646450896896/1672271095', profile_link_color='1DA1F2', profile_sidebar_border_color='C0DEED', profile_sidebar_fill_color='DDEEF6', profile_text_color='333333', profile_use_background_image=True, has_extended_profile=True, default_profile=True, default_profile_image=False, following=False, follow_request_sent=False, notifications=False, translator_type='none', withheld_in_countries=[]), geo=None, coordinates=None, place=None, contributors=None, is_quote_status=False, retweet_count=0, favorite_count=0, favorited=False, retweeted=False, lang='en')]"
      ]
     },
     "execution_count": 98,
     "metadata": {},
     "output_type": "execute_result"
    }
   ],
   "source": [
    "# First 5 replies\n",
    "replies[:5]"
   ]
  },
  {
   "attachments": {},
   "cell_type": "markdown",
   "metadata": {},
   "source": [
    "**Text From Replies:**"
   ]
  },
  {
   "cell_type": "code",
   "execution_count": 99,
   "metadata": {},
   "outputs": [
    {
     "name": "stdout",
     "output_type": "stream",
     "text": [
      "Tweet 0: @CryptoKaleo @ExplainThisBob\n",
      "Tweet 1: @CryptoKaleo Fresh new character https://t.co/EeE5zwg9AD\n",
      "Tweet 2: @CryptoKaleo And when you do, I will create a meme coin for the new character\n",
      "Tweet 3: @CryptoKaleo They seized the memes ser.\n",
      "Tweet 4: @CryptoKaleo The wonky stonker\n"
     ]
    }
   ],
   "source": [
    "for i in range(0,5):\n",
    "    print(f\"Tweet {i}: {replies[i].full_text}\")"
   ]
  },
  {
   "attachments": {},
   "cell_type": "markdown",
   "metadata": {},
   "source": [
    "**Can get different pieces of info by doing something like the following:**"
   ]
  },
  {
   "cell_type": "code",
   "execution_count": 100,
   "metadata": {},
   "outputs": [
    {
     "name": "stdout",
     "output_type": "stream",
     "text": [
      "Tweet Text: @CryptoKaleo @ExplainThisBob\n",
      "Users @: [{'screen_name': 'CryptoKaleo', 'name': 'K A L E O', 'id': 906234475604037637, 'id_str': '906234475604037637', 'indices': [0, 12]}, {'screen_name': 'ExplainThisBob', 'name': 'Bob Is Here To Explain', 'id': 1525739203341918208, 'id_str': '1525739203341918208', 'indices': [13, 28]}]\n",
      "Account Created At: 2020-12-12 02:23:53+00:00\n",
      "Followers: 984\n"
     ]
    }
   ],
   "source": [
    "print(f\"Tweet Text: {replies[0].full_text}\")\n",
    "print(f\"Users @: {replies[0].entities['user_mentions']}\")\n",
    "print(f\"Account Created At: {replies[0].user.created_at}\")\n",
    "print(f\"Followers: {replies[0].user.followers_count}\")\n"
   ]
  },
  {
   "cell_type": "code",
   "execution_count": 101,
   "metadata": {},
   "outputs": [],
   "source": [
    "text = []\n",
    "screen_name = []\n",
    "followers = []\n",
    "following= [] #friends-count\n",
    "account_age = []\n",
    "verified = []\n",
    "tweet_count = [] #statuses count\n",
    "default_profile_image = []\n",
    "user_mentions = []\n",
    "linked_urls = []\n",
    "reply_time = []\n",
    "has_hashtag =[]"
   ]
  },
  {
   "attachments": {},
   "cell_type": "markdown",
   "metadata": {},
   "source": [
    "**This Determines if the reply text has a '#' in it:\n",
    "* Will become a feature later"
   ]
  },
  {
   "cell_type": "code",
   "execution_count": 102,
   "metadata": {},
   "outputs": [],
   "source": [
    "for i in range(len(replies)):\n",
    "    if '#' in replies[i].full_text:\n",
    "        has_hashtag.append('yes')\n",
    "    else:\n",
    "        has_hashtag.append('no') "
   ]
  },
  {
   "cell_type": "code",
   "execution_count": 103,
   "metadata": {},
   "outputs": [],
   "source": [
    "for i in range(len(replies)):\n",
    "    text.append(replies[i].full_text)\n",
    "    screen_name.append(replies[i].user.screen_name)\n",
    "    followers.append(replies[i].user.followers_count)\n",
    "    following.append(replies[i].user.friends_count)\n",
    "    account_age.append(replies[i].user.created_at)\n",
    "    verified.append(replies[i].user.verified)\n",
    "    tweet_count.append(replies[i].user.statuses_count)\n",
    "    default_profile_image.append(replies[i].user.default_profile_image)\n",
    "    user_mentions.append(len(replies[i].entities['user_mentions'])) # Determines # of user mentions\n",
    "    linked_urls.append(len(replies[i].entities['urls'])) # Determines if they linked a URL\n",
    "    reply_time.append(replies[i].created_at) "
   ]
  },
  {
   "cell_type": "code",
   "execution_count": 104,
   "metadata": {},
   "outputs": [],
   "source": [
    "df = pd.DataFrame(\n",
    "    {'text': text,\n",
    "     'screen_name': screen_name,\n",
    "     'followers':followers,\n",
    "     'following':following,\n",
    "     'account_age': account_age,\n",
    "     'verified': verified,\n",
    "     'tweet_count':tweet_count,\n",
    "     'default_prof_img':default_profile_image,\n",
    "     'user_mentions': user_mentions,\n",
    "     'linked_urls' : linked_urls,\n",
    "     'reply_time': reply_time,\n",
    "     'has_hashtag' : has_hashtag\n",
    "    })"
   ]
  },
  {
   "attachments": {},
   "cell_type": "markdown",
   "metadata": {},
   "source": [
    "**Our starting DataFrame:**"
   ]
  },
  {
   "cell_type": "code",
   "execution_count": 105,
   "metadata": {},
   "outputs": [
    {
     "data": {
      "text/html": [
       "<div>\n",
       "<style scoped>\n",
       "    .dataframe tbody tr th:only-of-type {\n",
       "        vertical-align: middle;\n",
       "    }\n",
       "\n",
       "    .dataframe tbody tr th {\n",
       "        vertical-align: top;\n",
       "    }\n",
       "\n",
       "    .dataframe thead th {\n",
       "        text-align: right;\n",
       "    }\n",
       "</style>\n",
       "<table border=\"1\" class=\"dataframe\">\n",
       "  <thead>\n",
       "    <tr style=\"text-align: right;\">\n",
       "      <th></th>\n",
       "      <th>text</th>\n",
       "      <th>screen_name</th>\n",
       "      <th>followers</th>\n",
       "      <th>following</th>\n",
       "      <th>account_age</th>\n",
       "      <th>verified</th>\n",
       "      <th>tweet_count</th>\n",
       "      <th>default_prof_img</th>\n",
       "      <th>user_mentions</th>\n",
       "      <th>linked_urls</th>\n",
       "      <th>reply_time</th>\n",
       "      <th>has_hashtag</th>\n",
       "    </tr>\n",
       "  </thead>\n",
       "  <tbody>\n",
       "    <tr>\n",
       "      <th>0</th>\n",
       "      <td>@CryptoKaleo @ExplainThisBob</td>\n",
       "      <td>dreamchaserwow</td>\n",
       "      <td>984</td>\n",
       "      <td>1199</td>\n",
       "      <td>2020-12-12 02:23:53+00:00</td>\n",
       "      <td>False</td>\n",
       "      <td>18653</td>\n",
       "      <td>False</td>\n",
       "      <td>2</td>\n",
       "      <td>0</td>\n",
       "      <td>2023-04-24 19:00:51+00:00</td>\n",
       "      <td>no</td>\n",
       "    </tr>\n",
       "    <tr>\n",
       "      <th>1</th>\n",
       "      <td>@CryptoKaleo Fresh new character https://t.co/...</td>\n",
       "      <td>ARFunnySeal</td>\n",
       "      <td>2165</td>\n",
       "      <td>1686</td>\n",
       "      <td>2021-04-20 23:40:01+00:00</td>\n",
       "      <td>False</td>\n",
       "      <td>6588</td>\n",
       "      <td>False</td>\n",
       "      <td>1</td>\n",
       "      <td>0</td>\n",
       "      <td>2023-04-24 19:00:17+00:00</td>\n",
       "      <td>no</td>\n",
       "    </tr>\n",
       "    <tr>\n",
       "      <th>2</th>\n",
       "      <td>@CryptoKaleo And when you do, I will create a ...</td>\n",
       "      <td>TheCryptoCIA</td>\n",
       "      <td>33</td>\n",
       "      <td>316</td>\n",
       "      <td>2021-10-14 09:58:41+00:00</td>\n",
       "      <td>False</td>\n",
       "      <td>1072</td>\n",
       "      <td>False</td>\n",
       "      <td>1</td>\n",
       "      <td>0</td>\n",
       "      <td>2023-04-24 18:59:37+00:00</td>\n",
       "      <td>no</td>\n",
       "    </tr>\n",
       "    <tr>\n",
       "      <th>3</th>\n",
       "      <td>@CryptoKaleo They seized the memes ser.</td>\n",
       "      <td>DustinRizzo</td>\n",
       "      <td>658</td>\n",
       "      <td>1655</td>\n",
       "      <td>2012-03-10 00:49:41+00:00</td>\n",
       "      <td>False</td>\n",
       "      <td>15200</td>\n",
       "      <td>False</td>\n",
       "      <td>1</td>\n",
       "      <td>0</td>\n",
       "      <td>2023-04-24 18:57:20+00:00</td>\n",
       "      <td>no</td>\n",
       "    </tr>\n",
       "    <tr>\n",
       "      <th>4</th>\n",
       "      <td>@CryptoKaleo The wonky stonker</td>\n",
       "      <td>Carolina4Crypto</td>\n",
       "      <td>6338</td>\n",
       "      <td>6231</td>\n",
       "      <td>2020-04-18 18:13:54+00:00</td>\n",
       "      <td>False</td>\n",
       "      <td>52638</td>\n",
       "      <td>False</td>\n",
       "      <td>1</td>\n",
       "      <td>0</td>\n",
       "      <td>2023-04-24 18:56:28+00:00</td>\n",
       "      <td>no</td>\n",
       "    </tr>\n",
       "  </tbody>\n",
       "</table>\n",
       "</div>"
      ],
      "text/plain": [
       "                                                text      screen_name  \\\n",
       "0                       @CryptoKaleo @ExplainThisBob   dreamchaserwow   \n",
       "1  @CryptoKaleo Fresh new character https://t.co/...      ARFunnySeal   \n",
       "2  @CryptoKaleo And when you do, I will create a ...     TheCryptoCIA   \n",
       "3            @CryptoKaleo They seized the memes ser.      DustinRizzo   \n",
       "4                     @CryptoKaleo The wonky stonker  Carolina4Crypto   \n",
       "\n",
       "   followers  following               account_age  verified  tweet_count  \\\n",
       "0        984       1199 2020-12-12 02:23:53+00:00     False        18653   \n",
       "1       2165       1686 2021-04-20 23:40:01+00:00     False         6588   \n",
       "2         33        316 2021-10-14 09:58:41+00:00     False         1072   \n",
       "3        658       1655 2012-03-10 00:49:41+00:00     False        15200   \n",
       "4       6338       6231 2020-04-18 18:13:54+00:00     False        52638   \n",
       "\n",
       "   default_prof_img  user_mentions  linked_urls                reply_time  \\\n",
       "0             False              2            0 2023-04-24 19:00:51+00:00   \n",
       "1             False              1            0 2023-04-24 19:00:17+00:00   \n",
       "2             False              1            0 2023-04-24 18:59:37+00:00   \n",
       "3             False              1            0 2023-04-24 18:57:20+00:00   \n",
       "4             False              1            0 2023-04-24 18:56:28+00:00   \n",
       "\n",
       "  has_hashtag  \n",
       "0          no  \n",
       "1          no  \n",
       "2          no  \n",
       "3          no  \n",
       "4          no  "
      ]
     },
     "execution_count": 105,
     "metadata": {},
     "output_type": "execute_result"
    }
   ],
   "source": [
    "df.head()"
   ]
  },
  {
   "attachments": {},
   "cell_type": "markdown",
   "metadata": {},
   "source": [
    "---"
   ]
  },
  {
   "attachments": {},
   "cell_type": "markdown",
   "metadata": {},
   "source": [
    "# Data Cleanup, Adding Relevant Columns, Text Cleanup:"
   ]
  },
  {
   "cell_type": "code",
   "execution_count": 106,
   "metadata": {},
   "outputs": [],
   "source": [
    "# Set time variable for when the original tweet was tweeted\n",
    "tweet_time = user_tweets['timestamp'][0]"
   ]
  },
  {
   "cell_type": "code",
   "execution_count": 107,
   "metadata": {},
   "outputs": [],
   "source": [
    "# Refers to original tweet creation time from earlier variable\n",
    "df['tweet_time'] = tweet_time"
   ]
  },
  {
   "cell_type": "code",
   "execution_count": 108,
   "metadata": {},
   "outputs": [],
   "source": [
    "# Calculates how long after the tweet was sent, the user replied to the tweet\n",
    "df['time_to_respond_minutes'] = (user_tweets['timestamp'][0] - df['reply_time']).astype('timedelta64[m]')*-1"
   ]
  },
  {
   "cell_type": "code",
   "execution_count": 109,
   "metadata": {},
   "outputs": [
    {
     "data": {
      "text/html": [
       "<div>\n",
       "<style scoped>\n",
       "    .dataframe tbody tr th:only-of-type {\n",
       "        vertical-align: middle;\n",
       "    }\n",
       "\n",
       "    .dataframe tbody tr th {\n",
       "        vertical-align: top;\n",
       "    }\n",
       "\n",
       "    .dataframe thead th {\n",
       "        text-align: right;\n",
       "    }\n",
       "</style>\n",
       "<table border=\"1\" class=\"dataframe\">\n",
       "  <thead>\n",
       "    <tr style=\"text-align: right;\">\n",
       "      <th></th>\n",
       "      <th>text</th>\n",
       "      <th>screen_name</th>\n",
       "      <th>followers</th>\n",
       "      <th>following</th>\n",
       "      <th>account_age</th>\n",
       "      <th>verified</th>\n",
       "      <th>tweet_count</th>\n",
       "      <th>default_prof_img</th>\n",
       "      <th>user_mentions</th>\n",
       "      <th>linked_urls</th>\n",
       "      <th>reply_time</th>\n",
       "      <th>has_hashtag</th>\n",
       "      <th>tweet_time</th>\n",
       "      <th>time_to_respond_minutes</th>\n",
       "    </tr>\n",
       "  </thead>\n",
       "  <tbody>\n",
       "    <tr>\n",
       "      <th>0</th>\n",
       "      <td>@CryptoKaleo @ExplainThisBob</td>\n",
       "      <td>dreamchaserwow</td>\n",
       "      <td>984</td>\n",
       "      <td>1199</td>\n",
       "      <td>2020-12-12 02:23:53+00:00</td>\n",
       "      <td>False</td>\n",
       "      <td>18653</td>\n",
       "      <td>False</td>\n",
       "      <td>2</td>\n",
       "      <td>0</td>\n",
       "      <td>2023-04-24 19:00:51+00:00</td>\n",
       "      <td>no</td>\n",
       "      <td>2023-04-24 19:16:18+00:00</td>\n",
       "      <td>-15.0</td>\n",
       "    </tr>\n",
       "    <tr>\n",
       "      <th>1</th>\n",
       "      <td>@CryptoKaleo Fresh new character https://t.co/...</td>\n",
       "      <td>ARFunnySeal</td>\n",
       "      <td>2165</td>\n",
       "      <td>1686</td>\n",
       "      <td>2021-04-20 23:40:01+00:00</td>\n",
       "      <td>False</td>\n",
       "      <td>6588</td>\n",
       "      <td>False</td>\n",
       "      <td>1</td>\n",
       "      <td>0</td>\n",
       "      <td>2023-04-24 19:00:17+00:00</td>\n",
       "      <td>no</td>\n",
       "      <td>2023-04-24 19:16:18+00:00</td>\n",
       "      <td>-16.0</td>\n",
       "    </tr>\n",
       "    <tr>\n",
       "      <th>2</th>\n",
       "      <td>@CryptoKaleo And when you do, I will create a ...</td>\n",
       "      <td>TheCryptoCIA</td>\n",
       "      <td>33</td>\n",
       "      <td>316</td>\n",
       "      <td>2021-10-14 09:58:41+00:00</td>\n",
       "      <td>False</td>\n",
       "      <td>1072</td>\n",
       "      <td>False</td>\n",
       "      <td>1</td>\n",
       "      <td>0</td>\n",
       "      <td>2023-04-24 18:59:37+00:00</td>\n",
       "      <td>no</td>\n",
       "      <td>2023-04-24 19:16:18+00:00</td>\n",
       "      <td>-16.0</td>\n",
       "    </tr>\n",
       "    <tr>\n",
       "      <th>3</th>\n",
       "      <td>@CryptoKaleo They seized the memes ser.</td>\n",
       "      <td>DustinRizzo</td>\n",
       "      <td>658</td>\n",
       "      <td>1655</td>\n",
       "      <td>2012-03-10 00:49:41+00:00</td>\n",
       "      <td>False</td>\n",
       "      <td>15200</td>\n",
       "      <td>False</td>\n",
       "      <td>1</td>\n",
       "      <td>0</td>\n",
       "      <td>2023-04-24 18:57:20+00:00</td>\n",
       "      <td>no</td>\n",
       "      <td>2023-04-24 19:16:18+00:00</td>\n",
       "      <td>-18.0</td>\n",
       "    </tr>\n",
       "    <tr>\n",
       "      <th>4</th>\n",
       "      <td>@CryptoKaleo The wonky stonker</td>\n",
       "      <td>Carolina4Crypto</td>\n",
       "      <td>6338</td>\n",
       "      <td>6231</td>\n",
       "      <td>2020-04-18 18:13:54+00:00</td>\n",
       "      <td>False</td>\n",
       "      <td>52638</td>\n",
       "      <td>False</td>\n",
       "      <td>1</td>\n",
       "      <td>0</td>\n",
       "      <td>2023-04-24 18:56:28+00:00</td>\n",
       "      <td>no</td>\n",
       "      <td>2023-04-24 19:16:18+00:00</td>\n",
       "      <td>-19.0</td>\n",
       "    </tr>\n",
       "  </tbody>\n",
       "</table>\n",
       "</div>"
      ],
      "text/plain": [
       "                                                text      screen_name  \\\n",
       "0                       @CryptoKaleo @ExplainThisBob   dreamchaserwow   \n",
       "1  @CryptoKaleo Fresh new character https://t.co/...      ARFunnySeal   \n",
       "2  @CryptoKaleo And when you do, I will create a ...     TheCryptoCIA   \n",
       "3            @CryptoKaleo They seized the memes ser.      DustinRizzo   \n",
       "4                     @CryptoKaleo The wonky stonker  Carolina4Crypto   \n",
       "\n",
       "   followers  following               account_age  verified  tweet_count  \\\n",
       "0        984       1199 2020-12-12 02:23:53+00:00     False        18653   \n",
       "1       2165       1686 2021-04-20 23:40:01+00:00     False         6588   \n",
       "2         33        316 2021-10-14 09:58:41+00:00     False         1072   \n",
       "3        658       1655 2012-03-10 00:49:41+00:00     False        15200   \n",
       "4       6338       6231 2020-04-18 18:13:54+00:00     False        52638   \n",
       "\n",
       "   default_prof_img  user_mentions  linked_urls                reply_time  \\\n",
       "0             False              2            0 2023-04-24 19:00:51+00:00   \n",
       "1             False              1            0 2023-04-24 19:00:17+00:00   \n",
       "2             False              1            0 2023-04-24 18:59:37+00:00   \n",
       "3             False              1            0 2023-04-24 18:57:20+00:00   \n",
       "4             False              1            0 2023-04-24 18:56:28+00:00   \n",
       "\n",
       "  has_hashtag                tweet_time  time_to_respond_minutes  \n",
       "0          no 2023-04-24 19:16:18+00:00                    -15.0  \n",
       "1          no 2023-04-24 19:16:18+00:00                    -16.0  \n",
       "2          no 2023-04-24 19:16:18+00:00                    -16.0  \n",
       "3          no 2023-04-24 19:16:18+00:00                    -18.0  \n",
       "4          no 2023-04-24 19:16:18+00:00                    -19.0  "
      ]
     },
     "execution_count": 109,
     "metadata": {},
     "output_type": "execute_result"
    }
   ],
   "source": [
    "df.head()"
   ]
  },
  {
   "cell_type": "code",
   "execution_count": 110,
   "metadata": {},
   "outputs": [],
   "source": [
    "df = df.drop(['tweet_time','reply_time'],axis= 1)"
   ]
  },
  {
   "cell_type": "code",
   "execution_count": 111,
   "metadata": {},
   "outputs": [],
   "source": [
    "# Create a variable for todays date to calculate how old the account is\n",
    "today = pd.Timestamp.now()\n",
    "today = today.date()"
   ]
  },
  {
   "cell_type": "code",
   "execution_count": 112,
   "metadata": {},
   "outputs": [
    {
     "name": "stderr",
     "output_type": "stream",
     "text": [
      "c:\\Users\\Justin\\anaconda3\\envs\\dev\\lib\\site-packages\\ipykernel_launcher.py:5: SettingWithCopyWarning: \n",
      "A value is trying to be set on a copy of a slice from a DataFrame\n",
      "\n",
      "See the caveats in the documentation: https://pandas.pydata.org/pandas-docs/stable/user_guide/indexing.html#returning-a-view-versus-a-copy\n",
      "  \"\"\"\n",
      "c:\\Users\\Justin\\anaconda3\\envs\\dev\\lib\\site-packages\\ipykernel_launcher.py:6: SettingWithCopyWarning: \n",
      "A value is trying to be set on a copy of a slice from a DataFrame\n",
      "\n",
      "See the caveats in the documentation: https://pandas.pydata.org/pandas-docs/stable/user_guide/indexing.html#returning-a-view-versus-a-copy\n",
      "  \n"
     ]
    }
   ],
   "source": [
    "#calculates the accounts age in days\n",
    "\n",
    "df['account_age_days'] = today - df['account_age'][i].date()\n",
    "for i in range(len(replies)):    \n",
    "    df['account_age_days'][i] = today - df['account_age'][i].date()\n",
    "    df['account_age_days'][i] = df['account_age_days'][i].days"
   ]
  },
  {
   "cell_type": "code",
   "execution_count": 113,
   "metadata": {},
   "outputs": [],
   "source": [
    "df['account_age_days'] = df['account_age_days'].astype('float64')"
   ]
  },
  {
   "cell_type": "code",
   "execution_count": 114,
   "metadata": {},
   "outputs": [],
   "source": [
    "df = df.drop(['account_age'],axis= 1)"
   ]
  },
  {
   "attachments": {},
   "cell_type": "markdown",
   "metadata": {},
   "source": [
    "**Adding a column for follower to following ratio --> May be helpful**"
   ]
  },
  {
   "cell_type": "code",
   "execution_count": 115,
   "metadata": {},
   "outputs": [],
   "source": [
    "df['follwers_to_following_ratio'] = (df['followers']/df['following']).round(2)"
   ]
  },
  {
   "attachments": {},
   "cell_type": "markdown",
   "metadata": {},
   "source": [
    "**Adding a column for average tweets per day**"
   ]
  },
  {
   "cell_type": "code",
   "execution_count": 116,
   "metadata": {},
   "outputs": [],
   "source": [
    "df['avg_tweets_per_day'] = (df['tweet_count']/df['account_age_days']).round(2)"
   ]
  },
  {
   "attachments": {},
   "cell_type": "markdown",
   "metadata": {},
   "source": [
    "**Removes special characters, numbers, links, etc. from tweet text**"
   ]
  },
  {
   "cell_type": "code",
   "execution_count": 117,
   "metadata": {},
   "outputs": [],
   "source": [
    "def clean_tweets(text):\n",
    "    text = text.lower()\n",
    "    text = re.sub(\"@[A-Za-z0-9_]+\",\"\", text)\n",
    "    text = re.sub(\"#[A-Za-z0-9_]+\",\"\", text)\n",
    "    text = re.sub(r\"http\\S+\", \"\", text)\n",
    "    text = re.sub(r\"www.\\S+\", \"\", text)\n",
    "    text = re.sub('[()!?]', ' ', text)\n",
    "    text = re.sub('\\[.*?\\]',' ', text)\n",
    "    text = re.sub(\"[^a-z0-9]\",\" \", text)\n",
    "    return text\n",
    "\n",
    "df['clean_text'] = df['text'].apply(clean_tweets)\n",
    "df = df.drop('text',axis=1)"
   ]
  },
  {
   "attachments": {},
   "cell_type": "markdown",
   "metadata": {},
   "source": [
    "**Important Note:**\n",
    "* IF 'user_mentions' > 1, then that means they mentioned someone else other than the original tweet poster in their reply. This is indicative of spam\n",
    "    * The default number is 1 here, because it's counting the reply '@original_tweeter'(reply text)\n",
    "* IF 'linked_urls' > 0, that means they have linked something in their reply. Also indicative of a spam reply\n",
    "* Expect lower time to respond to be indicative of spam, as many of these accounts are automated using the twitter API\n",
    "* Strangely, it seems that people are buying older twitter accounts to spam reply with, as it makes it harder to detect as spam if the account \n",
    "has been around for a while"
   ]
  },
  {
   "cell_type": "code",
   "execution_count": 118,
   "metadata": {},
   "outputs": [
    {
     "data": {
      "text/html": [
       "<div>\n",
       "<style scoped>\n",
       "    .dataframe tbody tr th:only-of-type {\n",
       "        vertical-align: middle;\n",
       "    }\n",
       "\n",
       "    .dataframe tbody tr th {\n",
       "        vertical-align: top;\n",
       "    }\n",
       "\n",
       "    .dataframe thead th {\n",
       "        text-align: right;\n",
       "    }\n",
       "</style>\n",
       "<table border=\"1\" class=\"dataframe\">\n",
       "  <thead>\n",
       "    <tr style=\"text-align: right;\">\n",
       "      <th></th>\n",
       "      <th>screen_name</th>\n",
       "      <th>followers</th>\n",
       "      <th>following</th>\n",
       "      <th>verified</th>\n",
       "      <th>tweet_count</th>\n",
       "      <th>default_prof_img</th>\n",
       "      <th>user_mentions</th>\n",
       "      <th>linked_urls</th>\n",
       "      <th>has_hashtag</th>\n",
       "      <th>time_to_respond_minutes</th>\n",
       "      <th>account_age_days</th>\n",
       "      <th>follwers_to_following_ratio</th>\n",
       "      <th>avg_tweets_per_day</th>\n",
       "      <th>clean_text</th>\n",
       "    </tr>\n",
       "  </thead>\n",
       "  <tbody>\n",
       "    <tr>\n",
       "      <th>0</th>\n",
       "      <td>dreamchaserwow</td>\n",
       "      <td>984</td>\n",
       "      <td>1199</td>\n",
       "      <td>False</td>\n",
       "      <td>18653</td>\n",
       "      <td>False</td>\n",
       "      <td>2</td>\n",
       "      <td>0</td>\n",
       "      <td>no</td>\n",
       "      <td>-15.0</td>\n",
       "      <td>863.0</td>\n",
       "      <td>0.82</td>\n",
       "      <td>21.61</td>\n",
       "      <td></td>\n",
       "    </tr>\n",
       "    <tr>\n",
       "      <th>1</th>\n",
       "      <td>ARFunnySeal</td>\n",
       "      <td>2165</td>\n",
       "      <td>1686</td>\n",
       "      <td>False</td>\n",
       "      <td>6588</td>\n",
       "      <td>False</td>\n",
       "      <td>1</td>\n",
       "      <td>0</td>\n",
       "      <td>no</td>\n",
       "      <td>-16.0</td>\n",
       "      <td>734.0</td>\n",
       "      <td>1.28</td>\n",
       "      <td>8.98</td>\n",
       "      <td>fresh new character</td>\n",
       "    </tr>\n",
       "    <tr>\n",
       "      <th>2</th>\n",
       "      <td>TheCryptoCIA</td>\n",
       "      <td>33</td>\n",
       "      <td>316</td>\n",
       "      <td>False</td>\n",
       "      <td>1072</td>\n",
       "      <td>False</td>\n",
       "      <td>1</td>\n",
       "      <td>0</td>\n",
       "      <td>no</td>\n",
       "      <td>-16.0</td>\n",
       "      <td>557.0</td>\n",
       "      <td>0.10</td>\n",
       "      <td>1.92</td>\n",
       "      <td>and when you do  i will create a meme coin fo...</td>\n",
       "    </tr>\n",
       "    <tr>\n",
       "      <th>3</th>\n",
       "      <td>DustinRizzo</td>\n",
       "      <td>658</td>\n",
       "      <td>1655</td>\n",
       "      <td>False</td>\n",
       "      <td>15200</td>\n",
       "      <td>False</td>\n",
       "      <td>1</td>\n",
       "      <td>0</td>\n",
       "      <td>no</td>\n",
       "      <td>-18.0</td>\n",
       "      <td>4062.0</td>\n",
       "      <td>0.40</td>\n",
       "      <td>3.74</td>\n",
       "      <td>they seized the memes ser</td>\n",
       "    </tr>\n",
       "    <tr>\n",
       "      <th>4</th>\n",
       "      <td>Carolina4Crypto</td>\n",
       "      <td>6338</td>\n",
       "      <td>6231</td>\n",
       "      <td>False</td>\n",
       "      <td>52638</td>\n",
       "      <td>False</td>\n",
       "      <td>1</td>\n",
       "      <td>0</td>\n",
       "      <td>no</td>\n",
       "      <td>-19.0</td>\n",
       "      <td>1101.0</td>\n",
       "      <td>1.02</td>\n",
       "      <td>47.81</td>\n",
       "      <td>the wonky stonker</td>\n",
       "    </tr>\n",
       "  </tbody>\n",
       "</table>\n",
       "</div>"
      ],
      "text/plain": [
       "       screen_name  followers  following  verified  tweet_count  \\\n",
       "0   dreamchaserwow        984       1199     False        18653   \n",
       "1      ARFunnySeal       2165       1686     False         6588   \n",
       "2     TheCryptoCIA         33        316     False         1072   \n",
       "3      DustinRizzo        658       1655     False        15200   \n",
       "4  Carolina4Crypto       6338       6231     False        52638   \n",
       "\n",
       "   default_prof_img  user_mentions  linked_urls has_hashtag  \\\n",
       "0             False              2            0          no   \n",
       "1             False              1            0          no   \n",
       "2             False              1            0          no   \n",
       "3             False              1            0          no   \n",
       "4             False              1            0          no   \n",
       "\n",
       "   time_to_respond_minutes  account_age_days  follwers_to_following_ratio  \\\n",
       "0                    -15.0             863.0                         0.82   \n",
       "1                    -16.0             734.0                         1.28   \n",
       "2                    -16.0             557.0                         0.10   \n",
       "3                    -18.0            4062.0                         0.40   \n",
       "4                    -19.0            1101.0                         1.02   \n",
       "\n",
       "   avg_tweets_per_day                                         clean_text  \n",
       "0               21.61                                                     \n",
       "1                8.98                               fresh new character   \n",
       "2                1.92   and when you do  i will create a meme coin fo...  \n",
       "3                3.74                         they seized the memes ser   \n",
       "4               47.81                                  the wonky stonker  "
      ]
     },
     "execution_count": 118,
     "metadata": {},
     "output_type": "execute_result"
    }
   ],
   "source": [
    "df.head(5)"
   ]
  },
  {
   "attachments": {},
   "cell_type": "markdown",
   "metadata": {},
   "source": [
    "---"
   ]
  },
  {
   "attachments": {},
   "cell_type": "markdown",
   "metadata": {},
   "source": [
    "# Writing to an Excel file, so we can gather as many entries as possible, before making a ML model:"
   ]
  },
  {
   "cell_type": "code",
   "execution_count": 120,
   "metadata": {},
   "outputs": [],
   "source": [
    "import pandas as pd\n",
    "\n",
    "with pd.ExcelWriter('Twitter_data.xlsx', mode= 'a', engine='openpyxl', if_sheet_exists='new') as writer:\n",
    "    df.to_excel(writer)"
   ]
  },
  {
   "cell_type": "code",
   "execution_count": 121,
   "metadata": {},
   "outputs": [
    {
     "name": "stdout",
     "output_type": "stream",
     "text": [
      "Tweet 0: @CryptoKaleo @ExplainThisBob\n",
      "Tweet 1: @CryptoKaleo Fresh new character https://t.co/EeE5zwg9AD\n",
      "Tweet 2: @CryptoKaleo And when you do, I will create a meme coin for the new character\n",
      "Tweet 3: @CryptoKaleo They seized the memes ser.\n",
      "Tweet 4: @CryptoKaleo The wonky stonker\n",
      "Tweet 5: @CryptoKaleo This guy!! https://t.co/rXqTKJfIEk\n",
      "Tweet 6: @CryptoKaleo Make it a duck\n",
      "Tweet 7: @CryptoKaleo The folks over @ @garbagefriends have memes for every occasion. Whether your bags are Pumping or Dumping, GF has you covered!! 🗑️🚮 https://t.co/TeXSMXzpt6\n",
      "Tweet 8: @CryptoKaleo https://t.co/BoP7egRIS3\n",
      "Tweet 9: @CryptoKaleo Lol right ?!\n",
      "Tweet 10: @CryptoKaleo I see Pepe as a symbol by Matt Furie\n",
      "Tweet 11: @CryptoKaleo https://t.co/lHHMEqRNVS\n",
      "Tweet 12: @CryptoKaleo when kaleo s meme presale?? asking for a friend ✍️\n",
      "Tweet 13: @CryptoKaleo facts\n",
      "Tweet 14: @CryptoKaleo facts\n",
      "Tweet 15: @CryptoKaleo Can we do a duck please \n",
      "\n",
      "No bias in me saying that \n",
      "\n",
      "I just like ducks \n",
      "\n",
      "Has nothin to do with my NFT \n",
      "\n",
      "Really just like ducks 🦆\n",
      "Tweet 16: @CryptoKaleo https://t.co/ZbwHD4s5Nq\n",
      "Tweet 17: @CryptoKaleo How about 🫎?\n",
      "Tweet 18: @CryptoKaleo What’s going on with the doggy coin\n",
      "Tweet 19: @CryptoKaleo oh ya you were having so much fun with the pepes\n",
      "Tweet 20: @CryptoKaleo https://t.co/a5ayXl7djB\n",
      "Tweet 21: @CryptoKaleo Buy a small bag and enjoy the ride then.  🤷‍♂️\n",
      "Tweet 22: @CryptoKaleo Please don't https://t.co/R3LE2JovUy\n",
      "Tweet 23: @CryptoKaleo $congo https://t.co/JJYErYigor\n",
      "Tweet 24: @CryptoKaleo PeePee?\n",
      "Tweet 25: @CryptoKaleo $pepe is the way tho\n",
      "\n",
      "Let that sink in 🐸 https://t.co/Onich0OT0x\n",
      "Tweet 26: @CryptoKaleo Thank god that meme is awful\n",
      "Tweet 27: @CryptoKaleo Wonky man\n",
      "Tweet 28: @CryptoKaleo 😢True\n",
      "Tweet 29: @CryptoKaleo it's not shilling when it comes to $pepe fren, it's just called life\n",
      "Tweet 30: @CryptoKaleo You are the character sir https://t.co/EMduuEd4if\n",
      "Tweet 31: @CryptoKaleo MILADY 😂\n",
      "Tweet 32: @CryptoKaleo $pepe killed pepe\n",
      "Tweet 33: @CryptoKaleo https://t.co/PQwp2EDQTn\n",
      "Tweet 34: @CryptoKaleo I got a good new subject https://t.co/YgyeklIMyw\n",
      "Tweet 35: @CryptoKaleo https://t.co/kbMPGfIKTK\n",
      "Tweet 36: @CryptoKaleo $BOBO\n",
      "Tweet 37: @CryptoKaleo Create a shitcoin to rug also on the new meme\n",
      "Tweet 38: @CryptoKaleo https://t.co/PrsgREF6XO\n",
      "Tweet 39: @CryptoKaleo or this is a bull thesis for $pepe\n",
      "Tweet 40: @CryptoKaleo They’ll just create a new token about it, no winning\n",
      "Tweet 41: @CryptoKaleo No one cares if you're sad about posting pepe or not, there are more things to be sad about in this world mfer\n",
      "Tweet 42: @CryptoKaleo Everyone says they want the next shib until it is here, then fade it cause they didn’t get in early enough. Just toss a few dollars at it and vibe my friend. https://t.co/BYaKfdBzKa\n",
      "Tweet 43: @CryptoKaleo LILs have the freshest memes https://t.co/fmxmqfT9Fe\n",
      "Tweet 44: @CryptoKaleo same, but on the opposite end of the spectrum https://t.co/DGbuXWQWw8\n",
      "Tweet 45: @CryptoKaleo How much time will it take for scammers to make that new character into another memecoin?\n",
      "Tweet 46: @CryptoKaleo $kek @Kek_Community\n",
      "Tweet 47: @CryptoKaleo Just a shillfest in here lol\n"
     ]
    }
   ],
   "source": [
    "for i in range(len(replies)):\n",
    "    print(f\"Tweet {i}: {replies[i].full_text}\")"
   ]
  },
  {
   "cell_type": "code",
   "execution_count": null,
   "metadata": {},
   "outputs": [],
   "source": []
  }
 ],
 "metadata": {
  "kernelspec": {
   "display_name": "dev",
   "language": "python",
   "name": "python3"
  },
  "language_info": {
   "codemirror_mode": {
    "name": "ipython",
    "version": 3
   },
   "file_extension": ".py",
   "mimetype": "text/x-python",
   "name": "python",
   "nbconvert_exporter": "python",
   "pygments_lexer": "ipython3",
   "version": "3.7.13"
  },
  "orig_nbformat": 4
 },
 "nbformat": 4,
 "nbformat_minor": 2
}
